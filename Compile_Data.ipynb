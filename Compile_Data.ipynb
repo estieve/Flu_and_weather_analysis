{
 "cells": [
  {
   "cell_type": "code",
   "execution_count": 1,
   "metadata": {},
   "outputs": [],
   "source": [
    "import pandas as pd\n",
    "import requests\n",
    "import json\n",
    "import numpy as np"
   ]
  },
  {
   "cell_type": "code",
   "execution_count": 2,
   "metadata": {},
   "outputs": [],
   "source": [
    "# the NOAA api pull code was aquired from Professor Michael Bush at Regis University\n",
    "\n",
    "# smy credentials for NOAA API. \n",
    "token = 'yEpCYKpOwkhOJBmuoHbpEGGKpYKXXmtg'"
   ]
  },
  {
   "cell_type": "code",
   "execution_count": 3,
   "metadata": {},
   "outputs": [
    {
     "name": "stdout",
     "output_type": "stream",
     "text": [
      "GHCND:USW00094728\n"
     ]
    }
   ],
   "source": [
    "# variables based on my station search\n",
    "network = 'GHCND'\n",
    "ID = 'USW00094728'\n",
    "station_id = network + ':' + ID\n",
    "print(station_id)"
   ]
  },
  {
   "cell_type": "code",
   "execution_count": 4,
   "metadata": {},
   "outputs": [],
   "source": [
    "data = {}\n",
    "data = {'limit':'1000', 'datasetid': network, 'stationid': station_id}"
   ]
  },
  {
   "cell_type": "code",
   "execution_count": 5,
   "metadata": {},
   "outputs": [
    {
     "data": {
      "text/plain": [
       "{'limit': '1000',\n",
       " 'datasetid': 'GHCND',\n",
       " 'stationid': 'GHCND:USW00094728',\n",
       " 'datatypeid': 'prcp',\n",
       " 'startdate': '2019-01-01',\n",
       " 'enddate': '2019-12-31',\n",
       " 'units': 'standard'}"
      ]
     },
     "execution_count": 5,
     "metadata": {},
     "output_type": "execute_result"
    }
   ],
   "source": [
    "# append additional parameters to data dictionary\n",
    "data.update({'datatypeid': 'prcp'})\n",
    "data.update({'startdate': '2019-01-01'})\n",
    "data.update({'enddate': '2019-12-31'})\n",
    "data.update({'units':'standard'})\n",
    "data"
   ]
  },
  {
   "cell_type": "code",
   "execution_count": 6,
   "metadata": {},
   "outputs": [],
   "source": [
    "# make the request to get our year of data\n",
    "t = requests.get('https://www.ncdc.noaa.gov/cdo-web/api/v2/data',params = data, headers = {'token':token})\n",
    "\n",
    "#load the api response as a json\n",
    "Precip = json.loads(t.text)\n",
    "\n",
    "#Build the initial dataframe\n",
    "df=pd.json_normalize(Precip, 'results')\n",
    "\n",
    "#Rename the column with the values to the datatype and remove the excess values\n",
    "df=df.rename(columns = {'value':'PRCP'})\n",
    "df.drop(['attributes','datatype'], axis=1, inplace=True)"
   ]
  },
  {
   "cell_type": "code",
   "execution_count": 7,
   "metadata": {},
   "outputs": [
    {
     "data": {
      "text/html": [
       "<div>\n",
       "<style scoped>\n",
       "    .dataframe tbody tr th:only-of-type {\n",
       "        vertical-align: middle;\n",
       "    }\n",
       "\n",
       "    .dataframe tbody tr th {\n",
       "        vertical-align: top;\n",
       "    }\n",
       "\n",
       "    .dataframe thead th {\n",
       "        text-align: right;\n",
       "    }\n",
       "</style>\n",
       "<table border=\"1\" class=\"dataframe\">\n",
       "  <thead>\n",
       "    <tr style=\"text-align: right;\">\n",
       "      <th></th>\n",
       "      <th>date</th>\n",
       "      <th>station</th>\n",
       "      <th>PRCP</th>\n",
       "    </tr>\n",
       "  </thead>\n",
       "  <tbody>\n",
       "    <tr>\n",
       "      <th>0</th>\n",
       "      <td>2019-01-01T00:00:00</td>\n",
       "      <td>GHCND:USW00094728</td>\n",
       "      <td>0.06</td>\n",
       "    </tr>\n",
       "    <tr>\n",
       "      <th>1</th>\n",
       "      <td>2019-01-02T00:00:00</td>\n",
       "      <td>GHCND:USW00094728</td>\n",
       "      <td>0.00</td>\n",
       "    </tr>\n",
       "    <tr>\n",
       "      <th>2</th>\n",
       "      <td>2019-01-03T00:00:00</td>\n",
       "      <td>GHCND:USW00094728</td>\n",
       "      <td>0.00</td>\n",
       "    </tr>\n",
       "    <tr>\n",
       "      <th>3</th>\n",
       "      <td>2019-01-04T00:00:00</td>\n",
       "      <td>GHCND:USW00094728</td>\n",
       "      <td>0.00</td>\n",
       "    </tr>\n",
       "    <tr>\n",
       "      <th>4</th>\n",
       "      <td>2019-01-05T00:00:00</td>\n",
       "      <td>GHCND:USW00094728</td>\n",
       "      <td>0.50</td>\n",
       "    </tr>\n",
       "  </tbody>\n",
       "</table>\n",
       "</div>"
      ],
      "text/plain": [
       "                  date            station  PRCP\n",
       "0  2019-01-01T00:00:00  GHCND:USW00094728  0.06\n",
       "1  2019-01-02T00:00:00  GHCND:USW00094728  0.00\n",
       "2  2019-01-03T00:00:00  GHCND:USW00094728  0.00\n",
       "3  2019-01-04T00:00:00  GHCND:USW00094728  0.00\n",
       "4  2019-01-05T00:00:00  GHCND:USW00094728  0.50"
      ]
     },
     "execution_count": 7,
     "metadata": {},
     "output_type": "execute_result"
    }
   ],
   "source": [
    "#Verify our dataframe\n",
    "df.head()"
   ]
  },
  {
   "cell_type": "code",
   "execution_count": 8,
   "metadata": {},
   "outputs": [],
   "source": [
    "#Build our dataframe to include the additional required parameters\n",
    "\n",
    "types = ['tmax','tmin']\n",
    "\n",
    "for i in types:\n",
    "    data.update({'datatypeid': i})\n",
    "    j = requests.get('https://www.ncdc.noaa.gov/cdo-web/api/v2/data',params = data, headers = {'token':token})\n",
    "    o = json.loads(j.text)\n",
    "        \n",
    "    #create new dataframe with api results\n",
    "    df2 = pd.json_normalize(o, 'results')\n",
    "    df2=df2.rename(columns = {'value':i})\n",
    "    df2.drop(['station','attributes','datatype'], axis=1, inplace=True)\n",
    "    \n",
    "    #merge the new dataframe with the base one on the date column\n",
    "    df = pd.merge(df, df2, on=['date'], how='outer')"
   ]
  },
  {
   "cell_type": "code",
   "execution_count": 9,
   "metadata": {},
   "outputs": [
    {
     "data": {
      "text/html": [
       "<div>\n",
       "<style scoped>\n",
       "    .dataframe tbody tr th:only-of-type {\n",
       "        vertical-align: middle;\n",
       "    }\n",
       "\n",
       "    .dataframe tbody tr th {\n",
       "        vertical-align: top;\n",
       "    }\n",
       "\n",
       "    .dataframe thead th {\n",
       "        text-align: right;\n",
       "    }\n",
       "</style>\n",
       "<table border=\"1\" class=\"dataframe\">\n",
       "  <thead>\n",
       "    <tr style=\"text-align: right;\">\n",
       "      <th></th>\n",
       "      <th>date</th>\n",
       "      <th>station</th>\n",
       "      <th>PRCP</th>\n",
       "      <th>tmax</th>\n",
       "      <th>tmin</th>\n",
       "    </tr>\n",
       "  </thead>\n",
       "  <tbody>\n",
       "    <tr>\n",
       "      <th>0</th>\n",
       "      <td>2019-01-01T00:00:00</td>\n",
       "      <td>GHCND:USW00094728</td>\n",
       "      <td>0.06</td>\n",
       "      <td>58.0</td>\n",
       "      <td>39.0</td>\n",
       "    </tr>\n",
       "    <tr>\n",
       "      <th>1</th>\n",
       "      <td>2019-01-02T00:00:00</td>\n",
       "      <td>GHCND:USW00094728</td>\n",
       "      <td>0.00</td>\n",
       "      <td>40.0</td>\n",
       "      <td>35.0</td>\n",
       "    </tr>\n",
       "    <tr>\n",
       "      <th>2</th>\n",
       "      <td>2019-01-03T00:00:00</td>\n",
       "      <td>GHCND:USW00094728</td>\n",
       "      <td>0.00</td>\n",
       "      <td>44.0</td>\n",
       "      <td>37.0</td>\n",
       "    </tr>\n",
       "    <tr>\n",
       "      <th>3</th>\n",
       "      <td>2019-01-04T00:00:00</td>\n",
       "      <td>GHCND:USW00094728</td>\n",
       "      <td>0.00</td>\n",
       "      <td>47.0</td>\n",
       "      <td>35.0</td>\n",
       "    </tr>\n",
       "    <tr>\n",
       "      <th>4</th>\n",
       "      <td>2019-01-05T00:00:00</td>\n",
       "      <td>GHCND:USW00094728</td>\n",
       "      <td>0.50</td>\n",
       "      <td>47.0</td>\n",
       "      <td>41.0</td>\n",
       "    </tr>\n",
       "  </tbody>\n",
       "</table>\n",
       "</div>"
      ],
      "text/plain": [
       "                  date            station  PRCP  tmax  tmin\n",
       "0  2019-01-01T00:00:00  GHCND:USW00094728  0.06  58.0  39.0\n",
       "1  2019-01-02T00:00:00  GHCND:USW00094728  0.00  40.0  35.0\n",
       "2  2019-01-03T00:00:00  GHCND:USW00094728  0.00  44.0  37.0\n",
       "3  2019-01-04T00:00:00  GHCND:USW00094728  0.00  47.0  35.0\n",
       "4  2019-01-05T00:00:00  GHCND:USW00094728  0.50  47.0  41.0"
      ]
     },
     "execution_count": 9,
     "metadata": {},
     "output_type": "execute_result"
    }
   ],
   "source": [
    "df.head()"
   ]
  },
  {
   "cell_type": "code",
   "execution_count": 10,
   "metadata": {},
   "outputs": [],
   "source": [
    "#Build our our dataframe to include previous years\n",
    "data.update({'datatypeid': 'prcp'})\n",
    "dates = ['2018','2017','2016','2015','2014','2013','2012','2011','2010','2009']\n",
    "\n",
    "for d in dates:\n",
    "    \n",
    "    #set the start and end dates\n",
    "    sd = f'{d}-01-01'\n",
    "    ed = f'{d}-12-31'\n",
    "    data.update({'startdate': sd})\n",
    "    data.update({'enddate': ed})\n",
    "\n",
    "    #Call to api to get results\n",
    "    j = requests.get('https://www.ncdc.noaa.gov/cdo-web/api/v2/data',params = data, headers = {'token':token})\n",
    "    o = json.loads(j.text)\n",
    "        \n",
    "    #create new dataframe with api results\n",
    "    df2 = pd.json_normalize(o, 'results')\n",
    "    df2=df2.rename(columns = {'value':'PRCP'})\n",
    "    df2.drop(['attributes','datatype'], axis=1, inplace=True)\n",
    "    \n",
    "    #add data for each of the datatypes\n",
    "    types = ['tmax','tmin']\n",
    "\n",
    "    for i in types:\n",
    "        data.update({'datatypeid': i})\n",
    "        \n",
    "        #Call to api to get results\n",
    "        j = requests.get('https://www.ncdc.noaa.gov/cdo-web/api/v2/data',params = data, headers = {'token':token})\n",
    "        o = json.loads(j.text)\n",
    "        \n",
    "        #create new dataframe with api results\n",
    "        df3 = pd.json_normalize(o, 'results')\n",
    "        df3=df3.rename(columns = {'value':i})\n",
    "        df3.drop(['station','attributes','datatype'], axis=1, inplace=True)\n",
    "    \n",
    "        #merge the new dataframe with the base one on the date column\n",
    "        df2 = pd.merge(df2, df3, on=['date'], how='outer')\n",
    "    \n",
    "    #merge the new dataframe with the base one on the date column\n",
    "    df = pd.concat([df, df2])\n",
    "    "
   ]
  },
  {
   "cell_type": "code",
   "execution_count": 11,
   "metadata": {},
   "outputs": [
    {
     "name": "stdout",
     "output_type": "stream",
     "text": [
      "<class 'pandas.core.frame.DataFrame'>\n",
      "Int64Index: 4017 entries, 0 to 364\n",
      "Data columns (total 5 columns):\n",
      " #   Column   Non-Null Count  Dtype  \n",
      "---  ------   --------------  -----  \n",
      " 0   date     4017 non-null   object \n",
      " 1   station  4017 non-null   object \n",
      " 2   PRCP     4017 non-null   float64\n",
      " 3   tmax     4017 non-null   float64\n",
      " 4   tmin     4017 non-null   float64\n",
      "dtypes: float64(3), object(2)\n",
      "memory usage: 188.3+ KB\n"
     ]
    }
   ],
   "source": [
    "df.info()"
   ]
  },
  {
   "cell_type": "code",
   "execution_count": 12,
   "metadata": {},
   "outputs": [],
   "source": [
    "#Create a column with the date\n",
    "df['datetime']=pd.to_datetime(df['date'])\n",
    "#Create a column with the week number for the year\n",
    "df['week']=df['datetime'].dt.isocalendar().week\n",
    "#then drop the older date column\n",
    "df.drop(['date'], axis=1, inplace=True)"
   ]
  },
  {
   "cell_type": "code",
   "execution_count": 13,
   "metadata": {},
   "outputs": [],
   "source": [
    "df.to_csv('weatherNY.csv', index=False)"
   ]
  },
  {
   "cell_type": "code",
   "execution_count": 14,
   "metadata": {},
   "outputs": [],
   "source": [
    "weatherNY=pd.read_csv('weatherNY.csv')"
   ]
  },
  {
   "cell_type": "code",
   "execution_count": 15,
   "metadata": {},
   "outputs": [],
   "source": [
    "weatherNY['datetime'] = weatherNY['datetime'].astype('datetime64[ns]')"
   ]
  },
  {
   "cell_type": "code",
   "execution_count": 16,
   "metadata": {},
   "outputs": [
    {
     "data": {
      "text/html": [
       "<div>\n",
       "<style scoped>\n",
       "    .dataframe tbody tr th:only-of-type {\n",
       "        vertical-align: middle;\n",
       "    }\n",
       "\n",
       "    .dataframe tbody tr th {\n",
       "        vertical-align: top;\n",
       "    }\n",
       "\n",
       "    .dataframe thead th {\n",
       "        text-align: right;\n",
       "    }\n",
       "</style>\n",
       "<table border=\"1\" class=\"dataframe\">\n",
       "  <thead>\n",
       "    <tr style=\"text-align: right;\">\n",
       "      <th></th>\n",
       "      <th>PRCP</th>\n",
       "      <th>tmax</th>\n",
       "      <th>tmin</th>\n",
       "      <th>week</th>\n",
       "    </tr>\n",
       "  </thead>\n",
       "  <tbody>\n",
       "    <tr>\n",
       "      <th>count</th>\n",
       "      <td>4017.000000</td>\n",
       "      <td>4017.000000</td>\n",
       "      <td>4017.000000</td>\n",
       "      <td>4017.000000</td>\n",
       "    </tr>\n",
       "    <tr>\n",
       "      <th>mean</th>\n",
       "      <td>40.131337</td>\n",
       "      <td>63.149614</td>\n",
       "      <td>49.008962</td>\n",
       "      <td>26.598706</td>\n",
       "    </tr>\n",
       "    <tr>\n",
       "      <th>std</th>\n",
       "      <td>24.161575</td>\n",
       "      <td>18.321940</td>\n",
       "      <td>16.784785</td>\n",
       "      <td>15.061652</td>\n",
       "    </tr>\n",
       "    <tr>\n",
       "      <th>min</th>\n",
       "      <td>-1.000000</td>\n",
       "      <td>13.000000</td>\n",
       "      <td>-1.000000</td>\n",
       "      <td>1.000000</td>\n",
       "    </tr>\n",
       "    <tr>\n",
       "      <th>25%</th>\n",
       "      <td>24.000000</td>\n",
       "      <td>48.000000</td>\n",
       "      <td>36.000000</td>\n",
       "      <td>14.000000</td>\n",
       "    </tr>\n",
       "    <tr>\n",
       "      <th>50%</th>\n",
       "      <td>43.000000</td>\n",
       "      <td>65.000000</td>\n",
       "      <td>50.000000</td>\n",
       "      <td>27.000000</td>\n",
       "    </tr>\n",
       "    <tr>\n",
       "      <th>75%</th>\n",
       "      <td>61.000000</td>\n",
       "      <td>79.000000</td>\n",
       "      <td>64.000000</td>\n",
       "      <td>40.000000</td>\n",
       "    </tr>\n",
       "    <tr>\n",
       "      <th>max</th>\n",
       "      <td>84.000000</td>\n",
       "      <td>104.000000</td>\n",
       "      <td>84.000000</td>\n",
       "      <td>53.000000</td>\n",
       "    </tr>\n",
       "  </tbody>\n",
       "</table>\n",
       "</div>"
      ],
      "text/plain": [
       "              PRCP         tmax         tmin         week\n",
       "count  4017.000000  4017.000000  4017.000000  4017.000000\n",
       "mean     40.131337    63.149614    49.008962    26.598706\n",
       "std      24.161575    18.321940    16.784785    15.061652\n",
       "min      -1.000000    13.000000    -1.000000     1.000000\n",
       "25%      24.000000    48.000000    36.000000    14.000000\n",
       "50%      43.000000    65.000000    50.000000    27.000000\n",
       "75%      61.000000    79.000000    64.000000    40.000000\n",
       "max      84.000000   104.000000    84.000000    53.000000"
      ]
     },
     "execution_count": 16,
     "metadata": {},
     "output_type": "execute_result"
    }
   ],
   "source": [
    "weatherNY.describe()"
   ]
  },
  {
   "cell_type": "code",
   "execution_count": 17,
   "metadata": {},
   "outputs": [],
   "source": [
    "# We need to handle the outliers above 2 inches\n",
    "weatherNY.loc[(weatherNY.PRCP > 0.2),'PRCP']=weatherNY['PRCP']*.001\n",
    "\n",
    "# We need to remove that negative precipitation record\n",
    "weatherNY.loc[(weatherNY.PRCP < 0),'PRCP']=0"
   ]
  },
  {
   "cell_type": "code",
   "execution_count": 18,
   "metadata": {},
   "outputs": [],
   "source": [
    "weekly_avg = weatherNY.resample('W-Sat', label='right', closed = 'right', on='datetime').mean().reset_index().sort_values(by='datetime')"
   ]
  },
  {
   "cell_type": "code",
   "execution_count": 19,
   "metadata": {},
   "outputs": [
    {
     "data": {
      "text/html": [
       "<div>\n",
       "<style scoped>\n",
       "    .dataframe tbody tr th:only-of-type {\n",
       "        vertical-align: middle;\n",
       "    }\n",
       "\n",
       "    .dataframe tbody tr th {\n",
       "        vertical-align: top;\n",
       "    }\n",
       "\n",
       "    .dataframe thead th {\n",
       "        text-align: right;\n",
       "    }\n",
       "</style>\n",
       "<table border=\"1\" class=\"dataframe\">\n",
       "  <thead>\n",
       "    <tr style=\"text-align: right;\">\n",
       "      <th></th>\n",
       "      <th>datetime</th>\n",
       "      <th>PRCP</th>\n",
       "      <th>tmax</th>\n",
       "      <th>tmin</th>\n",
       "      <th>week</th>\n",
       "    </tr>\n",
       "  </thead>\n",
       "  <tbody>\n",
       "    <tr>\n",
       "      <th>0</th>\n",
       "      <td>2009-01-03</td>\n",
       "      <td>0.022333</td>\n",
       "      <td>32.666667</td>\n",
       "      <td>22.333333</td>\n",
       "      <td>1.000000</td>\n",
       "    </tr>\n",
       "    <tr>\n",
       "      <th>1</th>\n",
       "      <td>2009-01-10</td>\n",
       "      <td>0.029000</td>\n",
       "      <td>37.285714</td>\n",
       "      <td>29.000000</td>\n",
       "      <td>1.857143</td>\n",
       "    </tr>\n",
       "    <tr>\n",
       "      <th>2</th>\n",
       "      <td>2009-01-17</td>\n",
       "      <td>0.017000</td>\n",
       "      <td>28.714286</td>\n",
       "      <td>17.000000</td>\n",
       "      <td>2.857143</td>\n",
       "    </tr>\n",
       "    <tr>\n",
       "      <th>3</th>\n",
       "      <td>2009-01-24</td>\n",
       "      <td>0.021714</td>\n",
       "      <td>36.142857</td>\n",
       "      <td>21.714286</td>\n",
       "      <td>3.857143</td>\n",
       "    </tr>\n",
       "    <tr>\n",
       "      <th>4</th>\n",
       "      <td>2009-01-31</td>\n",
       "      <td>0.021857</td>\n",
       "      <td>32.000000</td>\n",
       "      <td>21.857143</td>\n",
       "      <td>4.857143</td>\n",
       "    </tr>\n",
       "  </tbody>\n",
       "</table>\n",
       "</div>"
      ],
      "text/plain": [
       "    datetime      PRCP       tmax       tmin      week\n",
       "0 2009-01-03  0.022333  32.666667  22.333333  1.000000\n",
       "1 2009-01-10  0.029000  37.285714  29.000000  1.857143\n",
       "2 2009-01-17  0.017000  28.714286  17.000000  2.857143\n",
       "3 2009-01-24  0.021714  36.142857  21.714286  3.857143\n",
       "4 2009-01-31  0.021857  32.000000  21.857143  4.857143"
      ]
     },
     "execution_count": 19,
     "metadata": {},
     "output_type": "execute_result"
    }
   ],
   "source": [
    "weekly_avg.head()"
   ]
  },
  {
   "cell_type": "code",
   "execution_count": 20,
   "metadata": {},
   "outputs": [],
   "source": [
    "weekly_avg.rename({'PRCP': 'avgPrecip', 'awnd': 'avgAwnd', 'tmax': 'avgTmax', 'tmin':'avgTmin'}, axis=1, inplace=True)"
   ]
  },
  {
   "cell_type": "code",
   "execution_count": 21,
   "metadata": {},
   "outputs": [
    {
     "name": "stdout",
     "output_type": "stream",
     "text": [
      "<class 'pandas.core.frame.DataFrame'>\n",
      "Int64Index: 575 entries, 0 to 574\n",
      "Data columns (total 5 columns):\n",
      " #   Column     Non-Null Count  Dtype         \n",
      "---  ------     --------------  -----         \n",
      " 0   datetime   575 non-null    datetime64[ns]\n",
      " 1   avgPrecip  575 non-null    float64       \n",
      " 2   avgTmax    575 non-null    float64       \n",
      " 3   avgTmin    575 non-null    float64       \n",
      " 4   week       575 non-null    float64       \n",
      "dtypes: datetime64[ns](1), float64(4)\n",
      "memory usage: 27.0 KB\n"
     ]
    }
   ],
   "source": [
    "weekly_avg.info()"
   ]
  },
  {
   "cell_type": "code",
   "execution_count": 22,
   "metadata": {},
   "outputs": [],
   "source": [
    "from datetime import date, timedelta\n",
    "\n",
    "weekly_avg['date'] = weekly_avg['datetime']\n",
    "\n",
    "# Drop the old date column and the week column\n",
    "weekly_avg.drop(['datetime','week'], axis=1, inplace=True)"
   ]
  },
  {
   "cell_type": "code",
   "execution_count": 23,
   "metadata": {},
   "outputs": [
    {
     "data": {
      "text/plain": [
       "avgPrecip    0\n",
       "avgTmax      0\n",
       "avgTmin      0\n",
       "date         0\n",
       "dtype: int64"
      ]
     },
     "execution_count": 23,
     "metadata": {},
     "output_type": "execute_result"
    }
   ],
   "source": [
    "weekly_avg.isna().sum()"
   ]
  },
  {
   "cell_type": "code",
   "execution_count": 24,
   "metadata": {},
   "outputs": [
    {
     "data": {
      "text/html": [
       "<div>\n",
       "<style scoped>\n",
       "    .dataframe tbody tr th:only-of-type {\n",
       "        vertical-align: middle;\n",
       "    }\n",
       "\n",
       "    .dataframe tbody tr th {\n",
       "        vertical-align: top;\n",
       "    }\n",
       "\n",
       "    .dataframe thead th {\n",
       "        text-align: right;\n",
       "    }\n",
       "</style>\n",
       "<table border=\"1\" class=\"dataframe\">\n",
       "  <thead>\n",
       "    <tr style=\"text-align: right;\">\n",
       "      <th></th>\n",
       "      <th>avgPrecip</th>\n",
       "      <th>avgTmax</th>\n",
       "      <th>avgTmin</th>\n",
       "    </tr>\n",
       "  </thead>\n",
       "  <tbody>\n",
       "    <tr>\n",
       "      <th>count</th>\n",
       "      <td>575.000000</td>\n",
       "      <td>575.000000</td>\n",
       "      <td>575.000000</td>\n",
       "    </tr>\n",
       "    <tr>\n",
       "      <th>mean</th>\n",
       "      <td>0.042608</td>\n",
       "      <td>63.099627</td>\n",
       "      <td>48.970849</td>\n",
       "    </tr>\n",
       "    <tr>\n",
       "      <th>std</th>\n",
       "      <td>0.020705</td>\n",
       "      <td>17.169515</td>\n",
       "      <td>15.977568</td>\n",
       "    </tr>\n",
       "    <tr>\n",
       "      <th>min</th>\n",
       "      <td>0.000000</td>\n",
       "      <td>22.428571</td>\n",
       "      <td>9.000000</td>\n",
       "    </tr>\n",
       "    <tr>\n",
       "      <th>25%</th>\n",
       "      <td>0.028429</td>\n",
       "      <td>48.214286</td>\n",
       "      <td>35.857143</td>\n",
       "    </tr>\n",
       "    <tr>\n",
       "      <th>50%</th>\n",
       "      <td>0.044143</td>\n",
       "      <td>64.142857</td>\n",
       "      <td>48.857143</td>\n",
       "    </tr>\n",
       "    <tr>\n",
       "      <th>75%</th>\n",
       "      <td>0.060357</td>\n",
       "      <td>78.928571</td>\n",
       "      <td>63.500000</td>\n",
       "    </tr>\n",
       "    <tr>\n",
       "      <th>max</th>\n",
       "      <td>0.079000</td>\n",
       "      <td>95.714286</td>\n",
       "      <td>79.000000</td>\n",
       "    </tr>\n",
       "  </tbody>\n",
       "</table>\n",
       "</div>"
      ],
      "text/plain": [
       "        avgPrecip     avgTmax     avgTmin\n",
       "count  575.000000  575.000000  575.000000\n",
       "mean     0.042608   63.099627   48.970849\n",
       "std      0.020705   17.169515   15.977568\n",
       "min      0.000000   22.428571    9.000000\n",
       "25%      0.028429   48.214286   35.857143\n",
       "50%      0.044143   64.142857   48.857143\n",
       "75%      0.060357   78.928571   63.500000\n",
       "max      0.079000   95.714286   79.000000"
      ]
     },
     "execution_count": 24,
     "metadata": {},
     "output_type": "execute_result"
    }
   ],
   "source": [
    "weekly_avg.describe()"
   ]
  },
  {
   "cell_type": "code",
   "execution_count": 25,
   "metadata": {},
   "outputs": [],
   "source": [
    "# convert from avg precipitation per week to total for the week\n",
    "weekly_avg['totPrecip']= weekly_avg.avgPrecip*7\n",
    "weekly_avg.drop(['avgPrecip'], axis=1, inplace=True)"
   ]
  },
  {
   "cell_type": "code",
   "execution_count": 26,
   "metadata": {},
   "outputs": [],
   "source": [
    "flu=pd.read_csv('NY_FLU.csv')"
   ]
  },
  {
   "cell_type": "code",
   "execution_count": 27,
   "metadata": {},
   "outputs": [
    {
     "data": {
      "text/html": [
       "<div>\n",
       "<style scoped>\n",
       "    .dataframe tbody tr th:only-of-type {\n",
       "        vertical-align: middle;\n",
       "    }\n",
       "\n",
       "    .dataframe tbody tr th {\n",
       "        vertical-align: top;\n",
       "    }\n",
       "\n",
       "    .dataframe thead th {\n",
       "        text-align: right;\n",
       "    }\n",
       "</style>\n",
       "<table border=\"1\" class=\"dataframe\">\n",
       "  <thead>\n",
       "    <tr style=\"text-align: right;\">\n",
       "      <th></th>\n",
       "      <th>Season</th>\n",
       "      <th>Region</th>\n",
       "      <th>County</th>\n",
       "      <th>CDC Week</th>\n",
       "      <th>Week Ending Date</th>\n",
       "      <th>Disease</th>\n",
       "      <th>Count</th>\n",
       "      <th>County Centroid</th>\n",
       "      <th>FIPS</th>\n",
       "    </tr>\n",
       "  </thead>\n",
       "  <tbody>\n",
       "    <tr>\n",
       "      <th>0</th>\n",
       "      <td>2010-2011</td>\n",
       "      <td>NYC</td>\n",
       "      <td>NEW YORK</td>\n",
       "      <td>46</td>\n",
       "      <td>11/20/2010</td>\n",
       "      <td>INFLUENZA_A</td>\n",
       "      <td>15</td>\n",
       "      <td>(40.7831, -73.9712)</td>\n",
       "      <td>36061</td>\n",
       "    </tr>\n",
       "    <tr>\n",
       "      <th>1</th>\n",
       "      <td>2010-2011</td>\n",
       "      <td>NYC</td>\n",
       "      <td>NEW YORK</td>\n",
       "      <td>50</td>\n",
       "      <td>12/18/2010</td>\n",
       "      <td>INFLUENZA_B</td>\n",
       "      <td>0</td>\n",
       "      <td>(40.7831, -73.9712)</td>\n",
       "      <td>36061</td>\n",
       "    </tr>\n",
       "    <tr>\n",
       "      <th>2</th>\n",
       "      <td>2010-2011</td>\n",
       "      <td>NYC</td>\n",
       "      <td>RICHMOND</td>\n",
       "      <td>41</td>\n",
       "      <td>10/16/2010</td>\n",
       "      <td>INFLUENZA_A</td>\n",
       "      <td>0</td>\n",
       "      <td>(40.5795, -74.1502)</td>\n",
       "      <td>36085</td>\n",
       "    </tr>\n",
       "    <tr>\n",
       "      <th>3</th>\n",
       "      <td>2011-2012</td>\n",
       "      <td>NYC</td>\n",
       "      <td>KINGS</td>\n",
       "      <td>42</td>\n",
       "      <td>10/22/2011</td>\n",
       "      <td>INFLUENZA_A</td>\n",
       "      <td>0</td>\n",
       "      <td>(40.6782, -73.9442)</td>\n",
       "      <td>36047</td>\n",
       "    </tr>\n",
       "    <tr>\n",
       "      <th>4</th>\n",
       "      <td>2012-2013</td>\n",
       "      <td>WESTERN</td>\n",
       "      <td>SENECA</td>\n",
       "      <td>14</td>\n",
       "      <td>04/06/2013</td>\n",
       "      <td>INFLUENZA_A</td>\n",
       "      <td>0</td>\n",
       "      <td>(42.7652, -76.8721)</td>\n",
       "      <td>36099</td>\n",
       "    </tr>\n",
       "  </tbody>\n",
       "</table>\n",
       "</div>"
      ],
      "text/plain": [
       "      Season   Region    County  CDC Week Week Ending Date      Disease  \\\n",
       "0  2010-2011      NYC  NEW YORK        46       11/20/2010  INFLUENZA_A   \n",
       "1  2010-2011      NYC  NEW YORK        50       12/18/2010  INFLUENZA_B   \n",
       "2  2010-2011      NYC  RICHMOND        41       10/16/2010  INFLUENZA_A   \n",
       "3  2011-2012      NYC     KINGS        42       10/22/2011  INFLUENZA_A   \n",
       "4  2012-2013  WESTERN    SENECA        14       04/06/2013  INFLUENZA_A   \n",
       "\n",
       "   Count      County Centroid   FIPS  \n",
       "0     15  (40.7831, -73.9712)  36061  \n",
       "1      0  (40.7831, -73.9712)  36061  \n",
       "2      0  (40.5795, -74.1502)  36085  \n",
       "3      0  (40.6782, -73.9442)  36047  \n",
       "4      0  (42.7652, -76.8721)  36099  "
      ]
     },
     "execution_count": 27,
     "metadata": {},
     "output_type": "execute_result"
    }
   ],
   "source": [
    "flu.head()"
   ]
  },
  {
   "cell_type": "markdown",
   "metadata": {},
   "source": [
    "### Because this is a New York State dataset we are going to drop all records that are not from the New York City area."
   ]
  },
  {
   "cell_type": "code",
   "execution_count": 28,
   "metadata": {},
   "outputs": [],
   "source": [
    "flu.drop(flu.loc[flu['Region']=='CAPITAL DISTRICT'].index, inplace=True)\n",
    "flu.drop(flu.loc[flu['Region']=='CENTRAL'].index, inplace=True)\n",
    "flu.drop(flu.loc[flu['Region']=='WESTERN'].index, inplace=True)"
   ]
  },
  {
   "cell_type": "code",
   "execution_count": 29,
   "metadata": {},
   "outputs": [
    {
     "data": {
      "text/html": [
       "<div>\n",
       "<style scoped>\n",
       "    .dataframe tbody tr th:only-of-type {\n",
       "        vertical-align: middle;\n",
       "    }\n",
       "\n",
       "    .dataframe tbody tr th {\n",
       "        vertical-align: top;\n",
       "    }\n",
       "\n",
       "    .dataframe thead th {\n",
       "        text-align: right;\n",
       "    }\n",
       "</style>\n",
       "<table border=\"1\" class=\"dataframe\">\n",
       "  <thead>\n",
       "    <tr style=\"text-align: right;\">\n",
       "      <th></th>\n",
       "      <th>Season</th>\n",
       "      <th>Region</th>\n",
       "      <th>County</th>\n",
       "      <th>CDC Week</th>\n",
       "      <th>Week Ending Date</th>\n",
       "      <th>Disease</th>\n",
       "      <th>Count</th>\n",
       "      <th>County Centroid</th>\n",
       "      <th>FIPS</th>\n",
       "    </tr>\n",
       "  </thead>\n",
       "  <tbody>\n",
       "    <tr>\n",
       "      <th>3119</th>\n",
       "      <td>2010-2011</td>\n",
       "      <td>METRO</td>\n",
       "      <td>SULLIVAN</td>\n",
       "      <td>52</td>\n",
       "      <td>01/01/2011</td>\n",
       "      <td>INFLUENZA_B</td>\n",
       "      <td>0</td>\n",
       "      <td>(41.7201763, -74.7646796)</td>\n",
       "      <td>36105</td>\n",
       "    </tr>\n",
       "    <tr>\n",
       "      <th>7223</th>\n",
       "      <td>2010-2011</td>\n",
       "      <td>METRO</td>\n",
       "      <td>ORANGE</td>\n",
       "      <td>52</td>\n",
       "      <td>01/01/2011</td>\n",
       "      <td>INFLUENZA_B</td>\n",
       "      <td>0</td>\n",
       "      <td>(41.4024096, -74.3062522)</td>\n",
       "      <td>36071</td>\n",
       "    </tr>\n",
       "    <tr>\n",
       "      <th>27347</th>\n",
       "      <td>2010-2011</td>\n",
       "      <td>NYC</td>\n",
       "      <td>NEW YORK</td>\n",
       "      <td>52</td>\n",
       "      <td>01/01/2011</td>\n",
       "      <td>INFLUENZA_B</td>\n",
       "      <td>6</td>\n",
       "      <td>(40.7831, -73.9712)</td>\n",
       "      <td>36061</td>\n",
       "    </tr>\n",
       "    <tr>\n",
       "      <th>347</th>\n",
       "      <td>2010-2011</td>\n",
       "      <td>NYC</td>\n",
       "      <td>QUEENS</td>\n",
       "      <td>52</td>\n",
       "      <td>01/01/2011</td>\n",
       "      <td>INFLUENZA_UNSPECIFIED</td>\n",
       "      <td>1</td>\n",
       "      <td>(40.7282, -73.7949)</td>\n",
       "      <td>36081</td>\n",
       "    </tr>\n",
       "    <tr>\n",
       "      <th>4338</th>\n",
       "      <td>2010-2011</td>\n",
       "      <td>NYC</td>\n",
       "      <td>KINGS</td>\n",
       "      <td>52</td>\n",
       "      <td>01/01/2011</td>\n",
       "      <td>INFLUENZA_A</td>\n",
       "      <td>74</td>\n",
       "      <td>(40.6782, -73.9442)</td>\n",
       "      <td>36047</td>\n",
       "    </tr>\n",
       "    <tr>\n",
       "      <th>...</th>\n",
       "      <td>...</td>\n",
       "      <td>...</td>\n",
       "      <td>...</td>\n",
       "      <td>...</td>\n",
       "      <td>...</td>\n",
       "      <td>...</td>\n",
       "      <td>...</td>\n",
       "      <td>...</td>\n",
       "      <td>...</td>\n",
       "    </tr>\n",
       "    <tr>\n",
       "      <th>34689</th>\n",
       "      <td>2016-2017</td>\n",
       "      <td>METRO</td>\n",
       "      <td>DUTCHESS</td>\n",
       "      <td>52</td>\n",
       "      <td>12/31/2016</td>\n",
       "      <td>INFLUENZA_UNSPECIFIED</td>\n",
       "      <td>0</td>\n",
       "      <td>(41.7550085, -73.7399512)</td>\n",
       "      <td>36027</td>\n",
       "    </tr>\n",
       "    <tr>\n",
       "      <th>46557</th>\n",
       "      <td>2016-2017</td>\n",
       "      <td>METRO</td>\n",
       "      <td>WESTCHESTER</td>\n",
       "      <td>52</td>\n",
       "      <td>12/31/2016</td>\n",
       "      <td>INFLUENZA_UNSPECIFIED</td>\n",
       "      <td>0</td>\n",
       "      <td>(41.1527698, -73.745912)</td>\n",
       "      <td>36119</td>\n",
       "    </tr>\n",
       "    <tr>\n",
       "      <th>37148</th>\n",
       "      <td>2016-2017</td>\n",
       "      <td>METRO</td>\n",
       "      <td>WESTCHESTER</td>\n",
       "      <td>52</td>\n",
       "      <td>12/31/2016</td>\n",
       "      <td>INFLUENZA_A</td>\n",
       "      <td>237</td>\n",
       "      <td>(41.1527698, -73.745912)</td>\n",
       "      <td>36119</td>\n",
       "    </tr>\n",
       "    <tr>\n",
       "      <th>48282</th>\n",
       "      <td>2016-2017</td>\n",
       "      <td>METRO</td>\n",
       "      <td>NASSAU</td>\n",
       "      <td>52</td>\n",
       "      <td>12/31/2016</td>\n",
       "      <td>INFLUENZA_B</td>\n",
       "      <td>7</td>\n",
       "      <td>(40.7506561, -73.582905)</td>\n",
       "      <td>36059</td>\n",
       "    </tr>\n",
       "    <tr>\n",
       "      <th>32092</th>\n",
       "      <td>2016-2017</td>\n",
       "      <td>NYC</td>\n",
       "      <td>RICHMOND</td>\n",
       "      <td>52</td>\n",
       "      <td>12/31/2016</td>\n",
       "      <td>INFLUENZA_A</td>\n",
       "      <td>33</td>\n",
       "      <td>(40.5795, -74.1502)</td>\n",
       "      <td>36085</td>\n",
       "    </tr>\n",
       "  </tbody>\n",
       "</table>\n",
       "<p>14976 rows × 9 columns</p>\n",
       "</div>"
      ],
      "text/plain": [
       "          Season Region       County  CDC Week Week Ending Date  \\\n",
       "3119   2010-2011  METRO     SULLIVAN        52       01/01/2011   \n",
       "7223   2010-2011  METRO       ORANGE        52       01/01/2011   \n",
       "27347  2010-2011    NYC     NEW YORK        52       01/01/2011   \n",
       "347    2010-2011    NYC       QUEENS        52       01/01/2011   \n",
       "4338   2010-2011    NYC        KINGS        52       01/01/2011   \n",
       "...          ...    ...          ...       ...              ...   \n",
       "34689  2016-2017  METRO     DUTCHESS        52       12/31/2016   \n",
       "46557  2016-2017  METRO  WESTCHESTER        52       12/31/2016   \n",
       "37148  2016-2017  METRO  WESTCHESTER        52       12/31/2016   \n",
       "48282  2016-2017  METRO       NASSAU        52       12/31/2016   \n",
       "32092  2016-2017    NYC     RICHMOND        52       12/31/2016   \n",
       "\n",
       "                     Disease  Count            County Centroid   FIPS  \n",
       "3119             INFLUENZA_B      0  (41.7201763, -74.7646796)  36105  \n",
       "7223             INFLUENZA_B      0  (41.4024096, -74.3062522)  36071  \n",
       "27347            INFLUENZA_B      6        (40.7831, -73.9712)  36061  \n",
       "347    INFLUENZA_UNSPECIFIED      1        (40.7282, -73.7949)  36081  \n",
       "4338             INFLUENZA_A     74        (40.6782, -73.9442)  36047  \n",
       "...                      ...    ...                        ...    ...  \n",
       "34689  INFLUENZA_UNSPECIFIED      0  (41.7550085, -73.7399512)  36027  \n",
       "46557  INFLUENZA_UNSPECIFIED      0   (41.1527698, -73.745912)  36119  \n",
       "37148            INFLUENZA_A    237   (41.1527698, -73.745912)  36119  \n",
       "48282            INFLUENZA_B      7   (40.7506561, -73.582905)  36059  \n",
       "32092            INFLUENZA_A     33        (40.5795, -74.1502)  36085  \n",
       "\n",
       "[14976 rows x 9 columns]"
      ]
     },
     "execution_count": 29,
     "metadata": {},
     "output_type": "execute_result"
    }
   ],
   "source": [
    "flu.sort_values(by='Week Ending Date')"
   ]
  },
  {
   "cell_type": "code",
   "execution_count": 30,
   "metadata": {},
   "outputs": [],
   "source": [
    "# Drop the columns that are not relevant to our analysis\n",
    "flu.drop(['Season','Region','FIPS','County Centroid','Disease'], axis=1, inplace=True)"
   ]
  },
  {
   "cell_type": "code",
   "execution_count": 31,
   "metadata": {},
   "outputs": [],
   "source": [
    "# Change the date column to align with the weather data\n",
    "flu.rename({'Week Ending Date': 'date'}, axis=1, inplace=True)"
   ]
  },
  {
   "cell_type": "code",
   "execution_count": 32,
   "metadata": {},
   "outputs": [],
   "source": [
    "# Convert the date to datetime\n",
    "flu['date'] = flu['date'].astype('datetime64[ns]')"
   ]
  },
  {
   "cell_type": "code",
   "execution_count": 33,
   "metadata": {},
   "outputs": [],
   "source": [
    "# Join all of the weekly data together into a single record\n",
    "flu_group = flu.groupby(['date'])\n",
    "flu_sum=flu_group.sum().reset_index()"
   ]
  },
  {
   "cell_type": "code",
   "execution_count": 34,
   "metadata": {},
   "outputs": [
    {
     "data": {
      "text/html": [
       "<div>\n",
       "<style scoped>\n",
       "    .dataframe tbody tr th:only-of-type {\n",
       "        vertical-align: middle;\n",
       "    }\n",
       "\n",
       "    .dataframe tbody tr th {\n",
       "        vertical-align: top;\n",
       "    }\n",
       "\n",
       "    .dataframe thead th {\n",
       "        text-align: right;\n",
       "    }\n",
       "</style>\n",
       "<table border=\"1\" class=\"dataframe\">\n",
       "  <thead>\n",
       "    <tr style=\"text-align: right;\">\n",
       "      <th></th>\n",
       "      <th>date</th>\n",
       "      <th>CDC Week</th>\n",
       "      <th>Count</th>\n",
       "    </tr>\n",
       "  </thead>\n",
       "  <tbody>\n",
       "    <tr>\n",
       "      <th>0</th>\n",
       "      <td>2009-10-10</td>\n",
       "      <td>1680</td>\n",
       "      <td>131</td>\n",
       "    </tr>\n",
       "    <tr>\n",
       "      <th>1</th>\n",
       "      <td>2009-10-17</td>\n",
       "      <td>1722</td>\n",
       "      <td>161</td>\n",
       "    </tr>\n",
       "    <tr>\n",
       "      <th>2</th>\n",
       "      <td>2009-10-24</td>\n",
       "      <td>1764</td>\n",
       "      <td>394</td>\n",
       "    </tr>\n",
       "    <tr>\n",
       "      <th>3</th>\n",
       "      <td>2009-10-31</td>\n",
       "      <td>1806</td>\n",
       "      <td>837</td>\n",
       "    </tr>\n",
       "    <tr>\n",
       "      <th>4</th>\n",
       "      <td>2009-11-07</td>\n",
       "      <td>1848</td>\n",
       "      <td>1365</td>\n",
       "    </tr>\n",
       "  </tbody>\n",
       "</table>\n",
       "</div>"
      ],
      "text/plain": [
       "        date  CDC Week  Count\n",
       "0 2009-10-10      1680    131\n",
       "1 2009-10-17      1722    161\n",
       "2 2009-10-24      1764    394\n",
       "3 2009-10-31      1806    837\n",
       "4 2009-11-07      1848   1365"
      ]
     },
     "execution_count": 34,
     "metadata": {},
     "output_type": "execute_result"
    }
   ],
   "source": [
    "flu_sum.head()"
   ]
  },
  {
   "cell_type": "code",
   "execution_count": 35,
   "metadata": {},
   "outputs": [],
   "source": [
    "flu_weatherNY=pd.merge(flu_sum, weekly_avg, on=['date'], how='outer')"
   ]
  },
  {
   "cell_type": "code",
   "execution_count": 36,
   "metadata": {},
   "outputs": [
    {
     "data": {
      "text/html": [
       "<div>\n",
       "<style scoped>\n",
       "    .dataframe tbody tr th:only-of-type {\n",
       "        vertical-align: middle;\n",
       "    }\n",
       "\n",
       "    .dataframe tbody tr th {\n",
       "        vertical-align: top;\n",
       "    }\n",
       "\n",
       "    .dataframe thead th {\n",
       "        text-align: right;\n",
       "    }\n",
       "</style>\n",
       "<table border=\"1\" class=\"dataframe\">\n",
       "  <thead>\n",
       "    <tr style=\"text-align: right;\">\n",
       "      <th></th>\n",
       "      <th>date</th>\n",
       "      <th>CDC Week</th>\n",
       "      <th>Count</th>\n",
       "      <th>avgTmax</th>\n",
       "      <th>avgTmin</th>\n",
       "      <th>totPrecip</th>\n",
       "    </tr>\n",
       "  </thead>\n",
       "  <tbody>\n",
       "    <tr>\n",
       "      <th>0</th>\n",
       "      <td>2009-10-10</td>\n",
       "      <td>1680.0</td>\n",
       "      <td>131.0</td>\n",
       "      <td>67.714286</td>\n",
       "      <td>54.000000</td>\n",
       "      <td>0.378</td>\n",
       "    </tr>\n",
       "    <tr>\n",
       "      <th>1</th>\n",
       "      <td>2009-10-17</td>\n",
       "      <td>1722.0</td>\n",
       "      <td>161.0</td>\n",
       "      <td>53.571429</td>\n",
       "      <td>41.714286</td>\n",
       "      <td>0.292</td>\n",
       "    </tr>\n",
       "    <tr>\n",
       "      <th>2</th>\n",
       "      <td>2009-10-24</td>\n",
       "      <td>1764.0</td>\n",
       "      <td>394.0</td>\n",
       "      <td>62.285714</td>\n",
       "      <td>47.285714</td>\n",
       "      <td>0.331</td>\n",
       "    </tr>\n",
       "    <tr>\n",
       "      <th>3</th>\n",
       "      <td>2009-10-31</td>\n",
       "      <td>1806.0</td>\n",
       "      <td>837.0</td>\n",
       "      <td>60.142857</td>\n",
       "      <td>50.571429</td>\n",
       "      <td>0.354</td>\n",
       "    </tr>\n",
       "    <tr>\n",
       "      <th>4</th>\n",
       "      <td>2009-11-07</td>\n",
       "      <td>1848.0</td>\n",
       "      <td>1365.0</td>\n",
       "      <td>54.428571</td>\n",
       "      <td>41.857143</td>\n",
       "      <td>0.293</td>\n",
       "    </tr>\n",
       "  </tbody>\n",
       "</table>\n",
       "</div>"
      ],
      "text/plain": [
       "        date  CDC Week   Count    avgTmax    avgTmin  totPrecip\n",
       "0 2009-10-10    1680.0   131.0  67.714286  54.000000      0.378\n",
       "1 2009-10-17    1722.0   161.0  53.571429  41.714286      0.292\n",
       "2 2009-10-24    1764.0   394.0  62.285714  47.285714      0.331\n",
       "3 2009-10-31    1806.0   837.0  60.142857  50.571429      0.354\n",
       "4 2009-11-07    1848.0  1365.0  54.428571  41.857143      0.293"
      ]
     },
     "execution_count": 36,
     "metadata": {},
     "output_type": "execute_result"
    }
   ],
   "source": [
    "flu_weatherNY.head()"
   ]
  },
  {
   "cell_type": "code",
   "execution_count": 37,
   "metadata": {},
   "outputs": [
    {
     "name": "stdout",
     "output_type": "stream",
     "text": [
      "<class 'pandas.core.frame.DataFrame'>\n",
      "Int64Index: 591 entries, 0 to 590\n",
      "Data columns (total 6 columns):\n",
      " #   Column     Non-Null Count  Dtype         \n",
      "---  ------     --------------  -----         \n",
      " 0   date       591 non-null    datetime64[ns]\n",
      " 1   CDC Week   359 non-null    float64       \n",
      " 2   Count      359 non-null    float64       \n",
      " 3   avgTmax    575 non-null    float64       \n",
      " 4   avgTmin    575 non-null    float64       \n",
      " 5   totPrecip  575 non-null    float64       \n",
      "dtypes: datetime64[ns](1), float64(5)\n",
      "memory usage: 32.3 KB\n"
     ]
    }
   ],
   "source": [
    "flu_weatherNY.info()"
   ]
  },
  {
   "cell_type": "code",
   "execution_count": 38,
   "metadata": {},
   "outputs": [
    {
     "data": {
      "text/plain": [
       "date           0\n",
       "CDC Week     232\n",
       "Count        232\n",
       "avgTmax       16\n",
       "avgTmin       16\n",
       "totPrecip     16\n",
       "dtype: int64"
      ]
     },
     "execution_count": 38,
     "metadata": {},
     "output_type": "execute_result"
    }
   ],
   "source": [
    "flu_weatherNY.isna().sum()"
   ]
  },
  {
   "cell_type": "markdown",
   "metadata": {},
   "source": [
    "### The CDC data only covers the flu season while the weather data covers the entire years. This means we will have some null values for both count and CDC week as we see above. We need to remove these record."
   ]
  },
  {
   "cell_type": "code",
   "execution_count": 39,
   "metadata": {},
   "outputs": [],
   "source": [
    "# Drop the weeks where CDC week is null\n",
    "flu_weatherNY = flu_weatherNY[flu_weatherNY['CDC Week'].notna()]"
   ]
  },
  {
   "cell_type": "code",
   "execution_count": 40,
   "metadata": {},
   "outputs": [],
   "source": [
    "# Fill forward the remaining na values\n",
    "flu_weatherNY.fillna(method='ffill', inplace=True)"
   ]
  },
  {
   "cell_type": "code",
   "execution_count": 41,
   "metadata": {},
   "outputs": [
    {
     "data": {
      "text/plain": [
       "date         0\n",
       "CDC Week     0\n",
       "Count        0\n",
       "avgTmax      0\n",
       "avgTmin      0\n",
       "totPrecip    0\n",
       "dtype: int64"
      ]
     },
     "execution_count": 41,
     "metadata": {},
     "output_type": "execute_result"
    }
   ],
   "source": [
    "flu_weatherNY.isna().sum()"
   ]
  },
  {
   "cell_type": "code",
   "execution_count": 42,
   "metadata": {},
   "outputs": [],
   "source": [
    "# Remove the columns that we won't need for our analysis (date and CDC Week)\n",
    "flu_weatherNY.drop(['CDC Week'], axis=1, inplace=True)"
   ]
  },
  {
   "cell_type": "code",
   "execution_count": 43,
   "metadata": {},
   "outputs": [
    {
     "data": {
      "text/html": [
       "<div>\n",
       "<style scoped>\n",
       "    .dataframe tbody tr th:only-of-type {\n",
       "        vertical-align: middle;\n",
       "    }\n",
       "\n",
       "    .dataframe tbody tr th {\n",
       "        vertical-align: top;\n",
       "    }\n",
       "\n",
       "    .dataframe thead th {\n",
       "        text-align: right;\n",
       "    }\n",
       "</style>\n",
       "<table border=\"1\" class=\"dataframe\">\n",
       "  <thead>\n",
       "    <tr style=\"text-align: right;\">\n",
       "      <th></th>\n",
       "      <th>Count</th>\n",
       "      <th>avgTmax</th>\n",
       "      <th>avgTmin</th>\n",
       "      <th>totPrecip</th>\n",
       "    </tr>\n",
       "  </thead>\n",
       "  <tbody>\n",
       "    <tr>\n",
       "      <th>count</th>\n",
       "      <td>359.000000</td>\n",
       "      <td>359.000000</td>\n",
       "      <td>359.000000</td>\n",
       "      <td>359.000000</td>\n",
       "    </tr>\n",
       "    <tr>\n",
       "      <th>mean</th>\n",
       "      <td>1153.782730</td>\n",
       "      <td>52.512137</td>\n",
       "      <td>39.280143</td>\n",
       "      <td>0.234899</td>\n",
       "    </tr>\n",
       "    <tr>\n",
       "      <th>std</th>\n",
       "      <td>2008.088974</td>\n",
       "      <td>12.056341</td>\n",
       "      <td>10.671412</td>\n",
       "      <td>0.111622</td>\n",
       "    </tr>\n",
       "    <tr>\n",
       "      <th>min</th>\n",
       "      <td>6.000000</td>\n",
       "      <td>22.428571</td>\n",
       "      <td>9.000000</td>\n",
       "      <td>0.000000</td>\n",
       "    </tr>\n",
       "    <tr>\n",
       "      <th>25%</th>\n",
       "      <td>64.500000</td>\n",
       "      <td>43.333333</td>\n",
       "      <td>31.785714</td>\n",
       "      <td>0.166000</td>\n",
       "    </tr>\n",
       "    <tr>\n",
       "      <th>50%</th>\n",
       "      <td>305.000000</td>\n",
       "      <td>52.142857</td>\n",
       "      <td>38.571429</td>\n",
       "      <td>0.249000</td>\n",
       "    </tr>\n",
       "    <tr>\n",
       "      <th>75%</th>\n",
       "      <td>1289.000000</td>\n",
       "      <td>62.714286</td>\n",
       "      <td>47.285714</td>\n",
       "      <td>0.320500</td>\n",
       "    </tr>\n",
       "    <tr>\n",
       "      <th>max</th>\n",
       "      <td>11992.000000</td>\n",
       "      <td>79.428571</td>\n",
       "      <td>62.428571</td>\n",
       "      <td>0.437000</td>\n",
       "    </tr>\n",
       "  </tbody>\n",
       "</table>\n",
       "</div>"
      ],
      "text/plain": [
       "              Count     avgTmax     avgTmin   totPrecip\n",
       "count    359.000000  359.000000  359.000000  359.000000\n",
       "mean    1153.782730   52.512137   39.280143    0.234899\n",
       "std     2008.088974   12.056341   10.671412    0.111622\n",
       "min        6.000000   22.428571    9.000000    0.000000\n",
       "25%       64.500000   43.333333   31.785714    0.166000\n",
       "50%      305.000000   52.142857   38.571429    0.249000\n",
       "75%     1289.000000   62.714286   47.285714    0.320500\n",
       "max    11992.000000   79.428571   62.428571    0.437000"
      ]
     },
     "execution_count": 43,
     "metadata": {},
     "output_type": "execute_result"
    }
   ],
   "source": [
    "flu_weatherNY.describe()"
   ]
  },
  {
   "cell_type": "code",
   "execution_count": 44,
   "metadata": {},
   "outputs": [
    {
     "data": {
      "text/html": [
       "<div>\n",
       "<style scoped>\n",
       "    .dataframe tbody tr th:only-of-type {\n",
       "        vertical-align: middle;\n",
       "    }\n",
       "\n",
       "    .dataframe tbody tr th {\n",
       "        vertical-align: top;\n",
       "    }\n",
       "\n",
       "    .dataframe thead th {\n",
       "        text-align: right;\n",
       "    }\n",
       "</style>\n",
       "<table border=\"1\" class=\"dataframe\">\n",
       "  <thead>\n",
       "    <tr style=\"text-align: right;\">\n",
       "      <th></th>\n",
       "      <th>date</th>\n",
       "      <th>Count</th>\n",
       "      <th>avgTmax</th>\n",
       "      <th>avgTmin</th>\n",
       "      <th>totPrecip</th>\n",
       "    </tr>\n",
       "  </thead>\n",
       "  <tbody>\n",
       "    <tr>\n",
       "      <th>0</th>\n",
       "      <td>2009-10-10</td>\n",
       "      <td>131.0</td>\n",
       "      <td>67.714286</td>\n",
       "      <td>54.000000</td>\n",
       "      <td>0.378</td>\n",
       "    </tr>\n",
       "    <tr>\n",
       "      <th>1</th>\n",
       "      <td>2009-10-17</td>\n",
       "      <td>161.0</td>\n",
       "      <td>53.571429</td>\n",
       "      <td>41.714286</td>\n",
       "      <td>0.292</td>\n",
       "    </tr>\n",
       "    <tr>\n",
       "      <th>2</th>\n",
       "      <td>2009-10-24</td>\n",
       "      <td>394.0</td>\n",
       "      <td>62.285714</td>\n",
       "      <td>47.285714</td>\n",
       "      <td>0.331</td>\n",
       "    </tr>\n",
       "    <tr>\n",
       "      <th>3</th>\n",
       "      <td>2009-10-31</td>\n",
       "      <td>837.0</td>\n",
       "      <td>60.142857</td>\n",
       "      <td>50.571429</td>\n",
       "      <td>0.354</td>\n",
       "    </tr>\n",
       "    <tr>\n",
       "      <th>4</th>\n",
       "      <td>2009-11-07</td>\n",
       "      <td>1365.0</td>\n",
       "      <td>54.428571</td>\n",
       "      <td>41.857143</td>\n",
       "      <td>0.293</td>\n",
       "    </tr>\n",
       "  </tbody>\n",
       "</table>\n",
       "</div>"
      ],
      "text/plain": [
       "        date   Count    avgTmax    avgTmin  totPrecip\n",
       "0 2009-10-10   131.0  67.714286  54.000000      0.378\n",
       "1 2009-10-17   161.0  53.571429  41.714286      0.292\n",
       "2 2009-10-24   394.0  62.285714  47.285714      0.331\n",
       "3 2009-10-31   837.0  60.142857  50.571429      0.354\n",
       "4 2009-11-07  1365.0  54.428571  41.857143      0.293"
      ]
     },
     "execution_count": 44,
     "metadata": {},
     "output_type": "execute_result"
    }
   ],
   "source": [
    "flu_weatherNY.head()"
   ]
  },
  {
   "cell_type": "code",
   "execution_count": 45,
   "metadata": {},
   "outputs": [
    {
     "data": {
      "text/plain": [
       "Text(0.5, 1.0, 'Weekly Precipitation vs Positive Flu Cases NYC')"
      ]
     },
     "execution_count": 45,
     "metadata": {},
     "output_type": "execute_result"
    },
    {
     "data": {
      "image/png": "[encoded data removed]",
      "text/plain": [
       "<Figure size 720x360 with 2 Axes>"
      ]
     },
     "metadata": {
      "needs_background": "light"
     },
     "output_type": "display_data"
    }
   ],
   "source": [
    "import matplotlib\n",
    "import matplotlib.pyplot as plt\n",
    "from matplotlib.pyplot import figure\n",
    "\n",
    "plt.rcParams['figure.figsize'] = [10, 5]\n",
    "fig, ax = plt.subplots(frameon=False)\n",
    "ax2=ax.twinx()\n",
    "\n",
    "ax.plot(flu_weatherNY['date'], flu_weatherNY['Count'], color='r')\n",
    "ax2.plot(flu_weatherNY['date'], flu_weatherNY['totPrecip'], color='b')\n",
    "\n",
    "# set title\n",
    "plt.title('Weekly Precipitation vs Positive Flu Cases NYC')"
   ]
  },
  {
   "cell_type": "code",
   "execution_count": 46,
   "metadata": {
    "scrolled": false
   },
   "outputs": [
    {
     "data": {
      "text/plain": [
       "Text(0.5, 1.0, 'Avg Maximum Temp vs Positive Flu Cases NYC')"
      ]
     },
     "execution_count": 46,
     "metadata": {},
     "output_type": "execute_result"
    },
    {
     "data": {
      "image/png": "[encoded data removed]",
      "text/plain": [
       "<Figure size 720x360 with 2 Axes>"
      ]
     },
     "metadata": {
      "needs_background": "light"
     },
     "output_type": "display_data"
    }
   ],
   "source": [
    "plt.rcParams['figure.figsize'] = [10, 5]\n",
    "fig, ax = plt.subplots(frameon=False)\n",
    "ax2=ax.twinx()\n",
    "\n",
    "ax.plot(flu_weatherNY['date'], flu_weatherNY['Count'], color='r')\n",
    "ax2.plot(flu_weatherNY['date'], flu_weatherNY['avgTmax'], color='g')\n",
    "\n",
    "# set title\n",
    "plt.title('Avg Maximum Temp vs Positive Flu Cases NYC')"
   ]
  },
  {
   "cell_type": "code",
   "execution_count": 47,
   "metadata": {},
   "outputs": [
    {
     "data": {
      "text/plain": [
       "Text(0.5, 1.0, 'Avg Minimum Temp vs Positive Flu Cases NYC')"
      ]
     },
     "execution_count": 47,
     "metadata": {},
     "output_type": "execute_result"
    },
    {
     "data": {
      "image/png": "[encoded data removed]",
      "text/plain": [
       "<Figure size 720x360 with 2 Axes>"
      ]
     },
     "metadata": {
      "needs_background": "light"
     },
     "output_type": "display_data"
    }
   ],
   "source": [
    "plt.rcParams['figure.figsize'] = [10, 5]\n",
    "fig, ax = plt.subplots(frameon=False)\n",
    "ax2=ax.twinx()\n",
    "\n",
    "ax.plot(flu_weatherNY['date'], flu_weatherNY['Count'], color='r')\n",
    "ax2.plot(flu_weatherNY['date'], flu_weatherNY['avgTmin'], color='b')\n",
    "\n",
    "# set title\n",
    "plt.title('Avg Minimum Temp vs Positive Flu Cases NYC')"
   ]
  },
  {
   "cell_type": "markdown",
   "metadata": {},
   "source": [
    "### Now we will add an additional location in Luxembourg"
   ]
  },
  {
   "cell_type": "code",
   "execution_count": 48,
   "metadata": {},
   "outputs": [
    {
     "name": "stdout",
     "output_type": "stream",
     "text": [
      "GHCND:LU000006590\n"
     ]
    }
   ],
   "source": [
    "# variables based on my station search\n",
    "network = 'GHCND'\n",
    "ID = 'LU000006590'\n",
    "station_id = network + ':' + ID\n",
    "print(station_id)"
   ]
  },
  {
   "cell_type": "code",
   "execution_count": 49,
   "metadata": {},
   "outputs": [],
   "source": [
    "data = {}\n",
    "data = {'limit':'1000', 'datasetid': network, 'stationid': station_id}"
   ]
  },
  {
   "cell_type": "code",
   "execution_count": 50,
   "metadata": {},
   "outputs": [
    {
     "data": {
      "text/plain": [
       "{'limit': '1000',\n",
       " 'datasetid': 'GHCND',\n",
       " 'stationid': 'GHCND:LU000006590',\n",
       " 'datatypeid': 'prcp',\n",
       " 'startdate': '2019-01-01',\n",
       " 'enddate': '2019-12-31'}"
      ]
     },
     "execution_count": 50,
     "metadata": {},
     "output_type": "execute_result"
    }
   ],
   "source": [
    "# append additional parameters to data dictionary\n",
    "data.update({'datatypeid': 'prcp'})\n",
    "data.update({'startdate': '2019-01-01'})\n",
    "data.update({'enddate': '2019-12-31'})\n",
    "data"
   ]
  },
  {
   "cell_type": "code",
   "execution_count": 51,
   "metadata": {},
   "outputs": [],
   "source": [
    "# make the request to get our year of data\n",
    "t = requests.get('https://www.ncdc.noaa.gov/cdo-web/api/v2/data',params = data, headers = {'token':token})\n",
    "\n",
    "#load the api response as a json\n",
    "Precip = json.loads(t.text)\n",
    "\n",
    "#Build the initial dataframe\n",
    "df=pd.json_normalize(Precip, 'results')\n",
    "\n",
    "#Rename the column with the values to the datatype and remove the excess values\n",
    "df=df.rename(columns = {'value':'PRCP'})\n",
    "df.drop(['attributes','datatype'], axis=1, inplace=True)"
   ]
  },
  {
   "cell_type": "code",
   "execution_count": 52,
   "metadata": {},
   "outputs": [
    {
     "data": {
      "text/html": [
       "<div>\n",
       "<style scoped>\n",
       "    .dataframe tbody tr th:only-of-type {\n",
       "        vertical-align: middle;\n",
       "    }\n",
       "\n",
       "    .dataframe tbody tr th {\n",
       "        vertical-align: top;\n",
       "    }\n",
       "\n",
       "    .dataframe thead th {\n",
       "        text-align: right;\n",
       "    }\n",
       "</style>\n",
       "<table border=\"1\" class=\"dataframe\">\n",
       "  <thead>\n",
       "    <tr style=\"text-align: right;\">\n",
       "      <th></th>\n",
       "      <th>date</th>\n",
       "      <th>station</th>\n",
       "      <th>PRCP</th>\n",
       "    </tr>\n",
       "  </thead>\n",
       "  <tbody>\n",
       "    <tr>\n",
       "      <th>0</th>\n",
       "      <td>2019-01-01T00:00:00</td>\n",
       "      <td>GHCND:LU000006590</td>\n",
       "      <td>13</td>\n",
       "    </tr>\n",
       "    <tr>\n",
       "      <th>1</th>\n",
       "      <td>2019-01-02T00:00:00</td>\n",
       "      <td>GHCND:LU000006590</td>\n",
       "      <td>0</td>\n",
       "    </tr>\n",
       "    <tr>\n",
       "      <th>2</th>\n",
       "      <td>2019-01-03T00:00:00</td>\n",
       "      <td>GHCND:LU000006590</td>\n",
       "      <td>0</td>\n",
       "    </tr>\n",
       "    <tr>\n",
       "      <th>3</th>\n",
       "      <td>2019-01-04T00:00:00</td>\n",
       "      <td>GHCND:LU000006590</td>\n",
       "      <td>13</td>\n",
       "    </tr>\n",
       "    <tr>\n",
       "      <th>4</th>\n",
       "      <td>2019-01-05T00:00:00</td>\n",
       "      <td>GHCND:LU000006590</td>\n",
       "      <td>6</td>\n",
       "    </tr>\n",
       "  </tbody>\n",
       "</table>\n",
       "</div>"
      ],
      "text/plain": [
       "                  date            station  PRCP\n",
       "0  2019-01-01T00:00:00  GHCND:LU000006590    13\n",
       "1  2019-01-02T00:00:00  GHCND:LU000006590     0\n",
       "2  2019-01-03T00:00:00  GHCND:LU000006590     0\n",
       "3  2019-01-04T00:00:00  GHCND:LU000006590    13\n",
       "4  2019-01-05T00:00:00  GHCND:LU000006590     6"
      ]
     },
     "execution_count": 52,
     "metadata": {},
     "output_type": "execute_result"
    }
   ],
   "source": [
    "df.head()"
   ]
  },
  {
   "cell_type": "code",
   "execution_count": 53,
   "metadata": {},
   "outputs": [],
   "source": [
    "#Build our dataframe to include the additional required parameters\n",
    "\n",
    "types = ['tmax','tmin']\n",
    "\n",
    "for i in types:\n",
    "    data.update({'datatypeid': i})\n",
    "    j = requests.get('https://www.ncdc.noaa.gov/cdo-web/api/v2/data',params = data, headers = {'token':token})\n",
    "    o = json.loads(j.text)\n",
    "        \n",
    "    #create new dataframe with api results\n",
    "    df2 = pd.json_normalize(o, 'results')\n",
    "    df2=df2.rename(columns = {'value':i})\n",
    "    df2.drop(['station','attributes','datatype'], axis=1, inplace=True)\n",
    "    \n",
    "    #merge the new dataframe with the base one on the date column\n",
    "    df = pd.merge(df, df2, on=['date'], how='outer')"
   ]
  },
  {
   "cell_type": "code",
   "execution_count": 54,
   "metadata": {},
   "outputs": [],
   "source": [
    "#Build our our dataframe to include previous years\n",
    "data.update({'datatypeid': 'prcp'})\n",
    "dates = ['2018','2017','2016','2015','2014','2013','2012','2011','2010','2009']\n",
    "\n",
    "\n",
    "for d in dates:\n",
    "    \n",
    "    #set the start and end dates\n",
    "    sd = f'{d}-01-01'\n",
    "    ed = f'{d}-12-31'\n",
    "    data.update({'startdate': sd})\n",
    "    data.update({'enddate': ed})\n",
    "\n",
    "    #Call to api to get results\n",
    "    j = requests.get('https://www.ncdc.noaa.gov/cdo-web/api/v2/data',params = data, headers = {'token':token})\n",
    "    o = json.loads(j.text)\n",
    "        \n",
    "    #create new dataframe with api results\n",
    "    df2 = pd.json_normalize(o, 'results')\n",
    "    df2=df2.rename(columns = {'value':'PRCP'})\n",
    "    df2.drop(['attributes','datatype'], axis=1, inplace=True)\n",
    "    \n",
    "    #add data for each of the datatypes\n",
    "    types = ['tmax','tmin']\n",
    "\n",
    "    for i in types:\n",
    "        data.update({'datatypeid': i})\n",
    "        \n",
    "        #Call to api to get results\n",
    "        j = requests.get('https://www.ncdc.noaa.gov/cdo-web/api/v2/data',params = data, headers = {'token':token})\n",
    "        o = json.loads(j.text)\n",
    "        \n",
    "        #create new dataframe with api results\n",
    "        df3 = pd.json_normalize(o, 'results')\n",
    "        df3=df3.rename(columns = {'value':i})\n",
    "        df3.drop(['station','attributes','datatype'], axis=1, inplace=True)\n",
    "    \n",
    "        #merge the new dataframe with the base one on the date column\n",
    "        df2 = pd.merge(df2, df3, on=['date'], how='outer')\n",
    "    \n",
    "    #merge the new dataframe with the base one on the date column\n",
    "    df = pd.concat([df, df2])"
   ]
  },
  {
   "cell_type": "code",
   "execution_count": 55,
   "metadata": {},
   "outputs": [
    {
     "data": {
      "text/html": [
       "<div>\n",
       "<style scoped>\n",
       "    .dataframe tbody tr th:only-of-type {\n",
       "        vertical-align: middle;\n",
       "    }\n",
       "\n",
       "    .dataframe tbody tr th {\n",
       "        vertical-align: top;\n",
       "    }\n",
       "\n",
       "    .dataframe thead th {\n",
       "        text-align: right;\n",
       "    }\n",
       "</style>\n",
       "<table border=\"1\" class=\"dataframe\">\n",
       "  <thead>\n",
       "    <tr style=\"text-align: right;\">\n",
       "      <th></th>\n",
       "      <th>date</th>\n",
       "      <th>station</th>\n",
       "      <th>PRCP</th>\n",
       "      <th>tmax</th>\n",
       "      <th>tmin</th>\n",
       "    </tr>\n",
       "  </thead>\n",
       "  <tbody>\n",
       "    <tr>\n",
       "      <th>0</th>\n",
       "      <td>2019-01-01T00:00:00</td>\n",
       "      <td>GHCND:LU000006590</td>\n",
       "      <td>13</td>\n",
       "      <td>57</td>\n",
       "      <td>24</td>\n",
       "    </tr>\n",
       "    <tr>\n",
       "      <th>1</th>\n",
       "      <td>2019-01-02T00:00:00</td>\n",
       "      <td>GHCND:LU000006590</td>\n",
       "      <td>0</td>\n",
       "      <td>32</td>\n",
       "      <td>-21</td>\n",
       "    </tr>\n",
       "    <tr>\n",
       "      <th>2</th>\n",
       "      <td>2019-01-03T00:00:00</td>\n",
       "      <td>GHCND:LU000006590</td>\n",
       "      <td>0</td>\n",
       "      <td>33</td>\n",
       "      <td>-33</td>\n",
       "    </tr>\n",
       "    <tr>\n",
       "      <th>3</th>\n",
       "      <td>2019-01-04T00:00:00</td>\n",
       "      <td>GHCND:LU000006590</td>\n",
       "      <td>13</td>\n",
       "      <td>30</td>\n",
       "      <td>-13</td>\n",
       "    </tr>\n",
       "    <tr>\n",
       "      <th>4</th>\n",
       "      <td>2019-01-05T00:00:00</td>\n",
       "      <td>GHCND:LU000006590</td>\n",
       "      <td>6</td>\n",
       "      <td>45</td>\n",
       "      <td>1</td>\n",
       "    </tr>\n",
       "  </tbody>\n",
       "</table>\n",
       "</div>"
      ],
      "text/plain": [
       "                  date            station  PRCP  tmax  tmin\n",
       "0  2019-01-01T00:00:00  GHCND:LU000006590    13    57    24\n",
       "1  2019-01-02T00:00:00  GHCND:LU000006590     0    32   -21\n",
       "2  2019-01-03T00:00:00  GHCND:LU000006590     0    33   -33\n",
       "3  2019-01-04T00:00:00  GHCND:LU000006590    13    30   -13\n",
       "4  2019-01-05T00:00:00  GHCND:LU000006590     6    45     1"
      ]
     },
     "execution_count": 55,
     "metadata": {},
     "output_type": "execute_result"
    }
   ],
   "source": [
    "df.head()"
   ]
  },
  {
   "cell_type": "code",
   "execution_count": 56,
   "metadata": {},
   "outputs": [],
   "source": [
    "#Create a column with the date\n",
    "df['datetime']=pd.to_datetime(df['date'])\n",
    "#Create a column with the week number for the year\n",
    "df['week']=df['datetime'].dt.isocalendar().week\n",
    "#then drop the older date column\n",
    "df.drop(['date'], axis=1, inplace=True)"
   ]
  },
  {
   "cell_type": "code",
   "execution_count": 57,
   "metadata": {},
   "outputs": [],
   "source": [
    "weatherLux = df"
   ]
  },
  {
   "cell_type": "code",
   "execution_count": 58,
   "metadata": {},
   "outputs": [],
   "source": [
    "weatherLux.to_csv('weatherLux.csv', index=False)"
   ]
  },
  {
   "cell_type": "code",
   "execution_count": 59,
   "metadata": {},
   "outputs": [],
   "source": [
    "weatherLux=pd.read_csv('weatherLux.csv')"
   ]
  },
  {
   "cell_type": "code",
   "execution_count": 60,
   "metadata": {},
   "outputs": [],
   "source": [
    "weatherLux['datetime'] = weatherLux['datetime'].astype('datetime64[ns]')"
   ]
  },
  {
   "cell_type": "code",
   "execution_count": 61,
   "metadata": {},
   "outputs": [
    {
     "data": {
      "text/html": [
       "<div>\n",
       "<style scoped>\n",
       "    .dataframe tbody tr th:only-of-type {\n",
       "        vertical-align: middle;\n",
       "    }\n",
       "\n",
       "    .dataframe tbody tr th {\n",
       "        vertical-align: top;\n",
       "    }\n",
       "\n",
       "    .dataframe thead th {\n",
       "        text-align: right;\n",
       "    }\n",
       "</style>\n",
       "<table border=\"1\" class=\"dataframe\">\n",
       "  <thead>\n",
       "    <tr style=\"text-align: right;\">\n",
       "      <th></th>\n",
       "      <th>PRCP</th>\n",
       "      <th>tmax</th>\n",
       "      <th>tmin</th>\n",
       "      <th>week</th>\n",
       "    </tr>\n",
       "  </thead>\n",
       "  <tbody>\n",
       "    <tr>\n",
       "      <th>count</th>\n",
       "      <td>4017.000000</td>\n",
       "      <td>4017.000000</td>\n",
       "      <td>4017.000000</td>\n",
       "      <td>4017.000000</td>\n",
       "    </tr>\n",
       "    <tr>\n",
       "      <th>mean</th>\n",
       "      <td>54.742096</td>\n",
       "      <td>140.822255</td>\n",
       "      <td>63.466019</td>\n",
       "      <td>26.598706</td>\n",
       "    </tr>\n",
       "    <tr>\n",
       "      <th>std</th>\n",
       "      <td>62.961881</td>\n",
       "      <td>85.544755</td>\n",
       "      <td>64.060315</td>\n",
       "      <td>15.061652</td>\n",
       "    </tr>\n",
       "    <tr>\n",
       "      <th>min</th>\n",
       "      <td>-150.000000</td>\n",
       "      <td>-80.000000</td>\n",
       "      <td>-150.000000</td>\n",
       "      <td>1.000000</td>\n",
       "    </tr>\n",
       "    <tr>\n",
       "      <th>25%</th>\n",
       "      <td>1.000000</td>\n",
       "      <td>73.000000</td>\n",
       "      <td>15.000000</td>\n",
       "      <td>14.000000</td>\n",
       "    </tr>\n",
       "    <tr>\n",
       "      <th>50%</th>\n",
       "      <td>49.000000</td>\n",
       "      <td>143.000000</td>\n",
       "      <td>65.000000</td>\n",
       "      <td>27.000000</td>\n",
       "    </tr>\n",
       "    <tr>\n",
       "      <th>75%</th>\n",
       "      <td>103.000000</td>\n",
       "      <td>206.000000</td>\n",
       "      <td>114.000000</td>\n",
       "      <td>40.000000</td>\n",
       "    </tr>\n",
       "    <tr>\n",
       "      <th>max</th>\n",
       "      <td>419.000000</td>\n",
       "      <td>390.000000</td>\n",
       "      <td>241.000000</td>\n",
       "      <td>53.000000</td>\n",
       "    </tr>\n",
       "  </tbody>\n",
       "</table>\n",
       "</div>"
      ],
      "text/plain": [
       "              PRCP         tmax         tmin         week\n",
       "count  4017.000000  4017.000000  4017.000000  4017.000000\n",
       "mean     54.742096   140.822255    63.466019    26.598706\n",
       "std      62.961881    85.544755    64.060315    15.061652\n",
       "min    -150.000000   -80.000000  -150.000000     1.000000\n",
       "25%       1.000000    73.000000    15.000000    14.000000\n",
       "50%      49.000000   143.000000    65.000000    27.000000\n",
       "75%     103.000000   206.000000   114.000000    40.000000\n",
       "max     419.000000   390.000000   241.000000    53.000000"
      ]
     },
     "execution_count": 61,
     "metadata": {},
     "output_type": "execute_result"
    }
   ],
   "source": [
    "weatherLux.describe()"
   ]
  },
  {
   "cell_type": "code",
   "execution_count": 62,
   "metadata": {},
   "outputs": [
    {
     "data": {
      "text/plain": [
       "0       13\n",
       "3       13\n",
       "4        6\n",
       "6       16\n",
       "7       45\n",
       "        ..\n",
       "3996    24\n",
       "3997    10\n",
       "4010    11\n",
       "4015    64\n",
       "4016    15\n",
       "Name: PRCP, Length: 3041, dtype: int64"
      ]
     },
     "execution_count": 62,
     "metadata": {},
     "output_type": "execute_result"
    }
   ],
   "source": [
    "weatherLux.loc[(weatherLux.PRCP > 0.2),'PRCP']"
   ]
  },
  {
   "cell_type": "code",
   "execution_count": 63,
   "metadata": {},
   "outputs": [],
   "source": [
    "# we have extraneous precipitation and temperature numbers that need to be addressed based on a record high of 102° and \n",
    "# a record low of -4.4° I am going to keep all values between -2° and 100°. I will change the outliers to NaN and then\n",
    "# do a forward fill.\n",
    "\n",
    "# deal with the minimum values\n",
    "weatherLux.loc[(weatherLux.PRCP < 0),'PRCP']=0\n",
    "weatherLux.loc[(weatherLux.tmax < 0),'tmax']=np.nan\n",
    "weatherLux.loc[(weatherLux.tmin < -2),'tmin']=np.nan\n",
    "\n",
    "# deal with the maximum values\n",
    "weatherLux.loc[(weatherLux.PRCP > 0.2),'PRCP']=.2\n",
    "weatherLux.loc[(weatherLux.tmax > 100),'tmax']=np.nan\n",
    "weatherLux.loc[(weatherLux.tmin > 80),'tmin']=np.nan"
   ]
  },
  {
   "cell_type": "code",
   "execution_count": 64,
   "metadata": {},
   "outputs": [
    {
     "name": "stdout",
     "output_type": "stream",
     "text": [
      "<class 'pandas.core.frame.DataFrame'>\n",
      "RangeIndex: 4017 entries, 0 to 4016\n",
      "Data columns (total 6 columns):\n",
      " #   Column    Non-Null Count  Dtype         \n",
      "---  ------    --------------  -----         \n",
      " 0   station   4017 non-null   object        \n",
      " 1   PRCP      4017 non-null   float64       \n",
      " 2   tmax      1275 non-null   float64       \n",
      " 3   tmin      1681 non-null   float64       \n",
      " 4   datetime  4017 non-null   datetime64[ns]\n",
      " 5   week      4017 non-null   int64         \n",
      "dtypes: datetime64[ns](1), float64(3), int64(1), object(1)\n",
      "memory usage: 188.4+ KB\n"
     ]
    }
   ],
   "source": [
    "weatherLux.info()"
   ]
  },
  {
   "cell_type": "code",
   "execution_count": 65,
   "metadata": {},
   "outputs": [
    {
     "data": {
      "text/plain": [
       "station        0\n",
       "PRCP           0\n",
       "tmax        2742\n",
       "tmin        2336\n",
       "datetime       0\n",
       "week           0\n",
       "dtype: int64"
      ]
     },
     "execution_count": 65,
     "metadata": {},
     "output_type": "execute_result"
    }
   ],
   "source": [
    "weatherLux.isna().sum()"
   ]
  },
  {
   "cell_type": "code",
   "execution_count": 66,
   "metadata": {},
   "outputs": [
    {
     "name": "stderr",
     "output_type": "stream",
     "text": [
      "C:\\Users\\eesti\\Anaconda3\\lib\\site-packages\\ipykernel_launcher.py:2: FutureWarning: DataFrame.mean and DataFrame.median with numeric_only=None will include datetime64 and datetime64tz columns in a future version.\n",
      "  \n"
     ]
    }
   ],
   "source": [
    "# Fill the remaining na values utilizing the mean value for each column\n",
    "weatherLux.fillna(weatherLux.mean(), inplace=True)\n"
   ]
  },
  {
   "cell_type": "code",
   "execution_count": 67,
   "metadata": {},
   "outputs": [],
   "source": [
    "# WHO data weeks end on Sunday, so we need to modify the date\n",
    "weekly_avg = weatherLux.resample('W-Sun', label='right', closed = 'right', on='datetime').mean().reset_index().sort_values(by='datetime')"
   ]
  },
  {
   "cell_type": "code",
   "execution_count": 68,
   "metadata": {},
   "outputs": [],
   "source": [
    "weekly_avg.rename({'PRCP': 'avgPrecip', 'awnd': 'avgAwnd', 'tmax': 'avgTmax', 'tmin':'avgTmin'}, axis=1, inplace=True)"
   ]
  },
  {
   "cell_type": "code",
   "execution_count": 69,
   "metadata": {},
   "outputs": [
    {
     "name": "stdout",
     "output_type": "stream",
     "text": [
      "<class 'pandas.core.frame.DataFrame'>\n",
      "Int64Index: 575 entries, 0 to 574\n",
      "Data columns (total 5 columns):\n",
      " #   Column     Non-Null Count  Dtype         \n",
      "---  ------     --------------  -----         \n",
      " 0   datetime   575 non-null    datetime64[ns]\n",
      " 1   avgPrecip  575 non-null    float64       \n",
      " 2   avgTmax    575 non-null    float64       \n",
      " 3   avgTmin    575 non-null    float64       \n",
      " 4   week       575 non-null    int64         \n",
      "dtypes: datetime64[ns](1), float64(3), int64(1)\n",
      "memory usage: 27.0 KB\n"
     ]
    }
   ],
   "source": [
    "weekly_avg.info()"
   ]
  },
  {
   "cell_type": "code",
   "execution_count": 70,
   "metadata": {},
   "outputs": [],
   "source": [
    "weekly_avg['date'] = weekly_avg['datetime']\n",
    "\n",
    "# Drop the old date column and the week column\n",
    "weekly_avg.drop(['datetime','week'], axis=1, inplace=True)"
   ]
  },
  {
   "cell_type": "code",
   "execution_count": 71,
   "metadata": {},
   "outputs": [
    {
     "data": {
      "text/plain": [
       "avgPrecip    0\n",
       "avgTmax      0\n",
       "avgTmin      0\n",
       "date         0\n",
       "dtype: int64"
      ]
     },
     "execution_count": 71,
     "metadata": {},
     "output_type": "execute_result"
    }
   ],
   "source": [
    "weekly_avg.isna().sum()"
   ]
  },
  {
   "cell_type": "code",
   "execution_count": 72,
   "metadata": {},
   "outputs": [],
   "source": [
    "# convert from avg precipitation per week to total for the week\n",
    "weekly_avg['totPrecip']= weekly_avg.avgPrecip * 7\n",
    "weekly_avg.drop(['avgPrecip'], axis=1, inplace=True)"
   ]
  },
  {
   "cell_type": "code",
   "execution_count": 73,
   "metadata": {},
   "outputs": [
    {
     "data": {
      "text/html": [
       "<div>\n",
       "<style scoped>\n",
       "    .dataframe tbody tr th:only-of-type {\n",
       "        vertical-align: middle;\n",
       "    }\n",
       "\n",
       "    .dataframe tbody tr th {\n",
       "        vertical-align: top;\n",
       "    }\n",
       "\n",
       "    .dataframe thead th {\n",
       "        text-align: right;\n",
       "    }\n",
       "</style>\n",
       "<table border=\"1\" class=\"dataframe\">\n",
       "  <thead>\n",
       "    <tr style=\"text-align: right;\">\n",
       "      <th></th>\n",
       "      <th>avgTmax</th>\n",
       "      <th>avgTmin</th>\n",
       "      <th>totPrecip</th>\n",
       "    </tr>\n",
       "  </thead>\n",
       "  <tbody>\n",
       "    <tr>\n",
       "      <th>count</th>\n",
       "      <td>575.000000</td>\n",
       "      <td>575.000000</td>\n",
       "      <td>575.000000</td>\n",
       "    </tr>\n",
       "    <tr>\n",
       "      <th>mean</th>\n",
       "      <td>55.928031</td>\n",
       "      <td>38.845330</td>\n",
       "      <td>1.057739</td>\n",
       "    </tr>\n",
       "    <tr>\n",
       "      <th>std</th>\n",
       "      <td>9.554282</td>\n",
       "      <td>9.354592</td>\n",
       "      <td>0.469270</td>\n",
       "    </tr>\n",
       "    <tr>\n",
       "      <th>min</th>\n",
       "      <td>11.571429</td>\n",
       "      <td>6.977904</td>\n",
       "      <td>0.000000</td>\n",
       "    </tr>\n",
       "    <tr>\n",
       "      <th>25%</th>\n",
       "      <td>55.941176</td>\n",
       "      <td>34.438854</td>\n",
       "      <td>0.800000</td>\n",
       "    </tr>\n",
       "    <tr>\n",
       "      <th>50%</th>\n",
       "      <td>55.941176</td>\n",
       "      <td>38.845330</td>\n",
       "      <td>1.400000</td>\n",
       "    </tr>\n",
       "    <tr>\n",
       "      <th>75%</th>\n",
       "      <td>59.949580</td>\n",
       "      <td>43.862284</td>\n",
       "      <td>1.400000</td>\n",
       "    </tr>\n",
       "    <tr>\n",
       "      <th>max</th>\n",
       "      <td>85.000000</td>\n",
       "      <td>65.120761</td>\n",
       "      <td>1.400000</td>\n",
       "    </tr>\n",
       "  </tbody>\n",
       "</table>\n",
       "</div>"
      ],
      "text/plain": [
       "          avgTmax     avgTmin   totPrecip\n",
       "count  575.000000  575.000000  575.000000\n",
       "mean    55.928031   38.845330    1.057739\n",
       "std      9.554282    9.354592    0.469270\n",
       "min     11.571429    6.977904    0.000000\n",
       "25%     55.941176   34.438854    0.800000\n",
       "50%     55.941176   38.845330    1.400000\n",
       "75%     59.949580   43.862284    1.400000\n",
       "max     85.000000   65.120761    1.400000"
      ]
     },
     "execution_count": 73,
     "metadata": {},
     "output_type": "execute_result"
    }
   ],
   "source": [
    "weekly_avg.describe()"
   ]
  },
  {
   "cell_type": "code",
   "execution_count": 74,
   "metadata": {},
   "outputs": [],
   "source": [
    "flu = pd.read_csv('LUX_Flu.csv')"
   ]
  },
  {
   "cell_type": "code",
   "execution_count": 75,
   "metadata": {},
   "outputs": [
    {
     "data": {
      "text/html": [
       "<div>\n",
       "<style scoped>\n",
       "    .dataframe tbody tr th:only-of-type {\n",
       "        vertical-align: middle;\n",
       "    }\n",
       "\n",
       "    .dataframe tbody tr th {\n",
       "        vertical-align: top;\n",
       "    }\n",
       "\n",
       "    .dataframe thead th {\n",
       "        text-align: right;\n",
       "    }\n",
       "</style>\n",
       "<table border=\"1\" class=\"dataframe\">\n",
       "  <thead>\n",
       "    <tr style=\"text-align: right;\">\n",
       "      <th></th>\n",
       "      <th>Country</th>\n",
       "      <th>WHOREGION</th>\n",
       "      <th>FLUREGION</th>\n",
       "      <th>Year</th>\n",
       "      <th>Week</th>\n",
       "      <th>SDATE</th>\n",
       "      <th>EDATE</th>\n",
       "      <th>SPEC_RECEIVED_NB</th>\n",
       "      <th>SPEC_PROCESSED_NB</th>\n",
       "      <th>AH1</th>\n",
       "      <th>...</th>\n",
       "      <th>AH5</th>\n",
       "      <th>ANOTSUBTYPED</th>\n",
       "      <th>INF_A</th>\n",
       "      <th>BYAMAGATA</th>\n",
       "      <th>BVICTORIA</th>\n",
       "      <th>BNOTDETERMINED</th>\n",
       "      <th>INF_B</th>\n",
       "      <th>ALL_INF</th>\n",
       "      <th>ALL_INF2</th>\n",
       "      <th>TITLE</th>\n",
       "    </tr>\n",
       "  </thead>\n",
       "  <tbody>\n",
       "    <tr>\n",
       "      <th>0</th>\n",
       "      <td>Luxembourg</td>\n",
       "      <td>European Region of WHO</td>\n",
       "      <td>South West Europe</td>\n",
       "      <td>2009</td>\n",
       "      <td>1</td>\n",
       "      <td>12/29/2008</td>\n",
       "      <td>1/4/2009</td>\n",
       "      <td>NaN</td>\n",
       "      <td>11.0</td>\n",
       "      <td>NaN</td>\n",
       "      <td>...</td>\n",
       "      <td>NaN</td>\n",
       "      <td>4.0</td>\n",
       "      <td>4.0</td>\n",
       "      <td>NaN</td>\n",
       "      <td>NaN</td>\n",
       "      <td>NaN</td>\n",
       "      <td>NaN</td>\n",
       "      <td>4.0</td>\n",
       "      <td>NaN</td>\n",
       "      <td>Regional Outbreak</td>\n",
       "    </tr>\n",
       "    <tr>\n",
       "      <th>1</th>\n",
       "      <td>Luxembourg</td>\n",
       "      <td>European Region of WHO</td>\n",
       "      <td>South West Europe</td>\n",
       "      <td>2009</td>\n",
       "      <td>2</td>\n",
       "      <td>1/5/2009</td>\n",
       "      <td>1/11/2009</td>\n",
       "      <td>NaN</td>\n",
       "      <td>28.0</td>\n",
       "      <td>NaN</td>\n",
       "      <td>...</td>\n",
       "      <td>NaN</td>\n",
       "      <td>15.0</td>\n",
       "      <td>15.0</td>\n",
       "      <td>NaN</td>\n",
       "      <td>NaN</td>\n",
       "      <td>NaN</td>\n",
       "      <td>NaN</td>\n",
       "      <td>15.0</td>\n",
       "      <td>NaN</td>\n",
       "      <td>Widespread Outbreak</td>\n",
       "    </tr>\n",
       "    <tr>\n",
       "      <th>2</th>\n",
       "      <td>Luxembourg</td>\n",
       "      <td>European Region of WHO</td>\n",
       "      <td>South West Europe</td>\n",
       "      <td>2009</td>\n",
       "      <td>3</td>\n",
       "      <td>1/12/2009</td>\n",
       "      <td>1/18/2009</td>\n",
       "      <td>NaN</td>\n",
       "      <td>92.0</td>\n",
       "      <td>NaN</td>\n",
       "      <td>...</td>\n",
       "      <td>NaN</td>\n",
       "      <td>58.0</td>\n",
       "      <td>58.0</td>\n",
       "      <td>NaN</td>\n",
       "      <td>NaN</td>\n",
       "      <td>NaN</td>\n",
       "      <td>NaN</td>\n",
       "      <td>58.0</td>\n",
       "      <td>NaN</td>\n",
       "      <td>No Report</td>\n",
       "    </tr>\n",
       "    <tr>\n",
       "      <th>3</th>\n",
       "      <td>Luxembourg</td>\n",
       "      <td>European Region of WHO</td>\n",
       "      <td>South West Europe</td>\n",
       "      <td>2009</td>\n",
       "      <td>4</td>\n",
       "      <td>1/19/2009</td>\n",
       "      <td>1/25/2009</td>\n",
       "      <td>NaN</td>\n",
       "      <td>NaN</td>\n",
       "      <td>NaN</td>\n",
       "      <td>...</td>\n",
       "      <td>NaN</td>\n",
       "      <td>NaN</td>\n",
       "      <td>NaN</td>\n",
       "      <td>NaN</td>\n",
       "      <td>NaN</td>\n",
       "      <td>NaN</td>\n",
       "      <td>NaN</td>\n",
       "      <td>NaN</td>\n",
       "      <td>NaN</td>\n",
       "      <td>No Report</td>\n",
       "    </tr>\n",
       "    <tr>\n",
       "      <th>4</th>\n",
       "      <td>Luxembourg</td>\n",
       "      <td>European Region of WHO</td>\n",
       "      <td>South West Europe</td>\n",
       "      <td>2009</td>\n",
       "      <td>5</td>\n",
       "      <td>1/26/2009</td>\n",
       "      <td>2/1/2009</td>\n",
       "      <td>NaN</td>\n",
       "      <td>NaN</td>\n",
       "      <td>NaN</td>\n",
       "      <td>...</td>\n",
       "      <td>NaN</td>\n",
       "      <td>NaN</td>\n",
       "      <td>NaN</td>\n",
       "      <td>NaN</td>\n",
       "      <td>NaN</td>\n",
       "      <td>NaN</td>\n",
       "      <td>NaN</td>\n",
       "      <td>NaN</td>\n",
       "      <td>NaN</td>\n",
       "      <td>No Report</td>\n",
       "    </tr>\n",
       "  </tbody>\n",
       "</table>\n",
       "<p>5 rows × 22 columns</p>\n",
       "</div>"
      ],
      "text/plain": [
       "      Country               WHOREGION          FLUREGION  Year  Week  \\\n",
       "0  Luxembourg  European Region of WHO  South West Europe  2009     1   \n",
       "1  Luxembourg  European Region of WHO  South West Europe  2009     2   \n",
       "2  Luxembourg  European Region of WHO  South West Europe  2009     3   \n",
       "3  Luxembourg  European Region of WHO  South West Europe  2009     4   \n",
       "4  Luxembourg  European Region of WHO  South West Europe  2009     5   \n",
       "\n",
       "        SDATE      EDATE  SPEC_RECEIVED_NB  SPEC_PROCESSED_NB  AH1  ...  AH5  \\\n",
       "0  12/29/2008   1/4/2009               NaN               11.0  NaN  ...  NaN   \n",
       "1    1/5/2009  1/11/2009               NaN               28.0  NaN  ...  NaN   \n",
       "2   1/12/2009  1/18/2009               NaN               92.0  NaN  ...  NaN   \n",
       "3   1/19/2009  1/25/2009               NaN                NaN  NaN  ...  NaN   \n",
       "4   1/26/2009   2/1/2009               NaN                NaN  NaN  ...  NaN   \n",
       "\n",
       "   ANOTSUBTYPED  INF_A  BYAMAGATA  BVICTORIA  BNOTDETERMINED  INF_B  ALL_INF  \\\n",
       "0           4.0    4.0        NaN        NaN             NaN    NaN      4.0   \n",
       "1          15.0   15.0        NaN        NaN             NaN    NaN     15.0   \n",
       "2          58.0   58.0        NaN        NaN             NaN    NaN     58.0   \n",
       "3           NaN    NaN        NaN        NaN             NaN    NaN      NaN   \n",
       "4           NaN    NaN        NaN        NaN             NaN    NaN      NaN   \n",
       "\n",
       "   ALL_INF2                TITLE  \n",
       "0       NaN    Regional Outbreak  \n",
       "1       NaN  Widespread Outbreak  \n",
       "2       NaN            No Report  \n",
       "3       NaN            No Report  \n",
       "4       NaN            No Report  \n",
       "\n",
       "[5 rows x 22 columns]"
      ]
     },
     "execution_count": 75,
     "metadata": {},
     "output_type": "execute_result"
    }
   ],
   "source": [
    "flu.head()"
   ]
  },
  {
   "cell_type": "code",
   "execution_count": 76,
   "metadata": {},
   "outputs": [
    {
     "name": "stdout",
     "output_type": "stream",
     "text": [
      "<class 'pandas.core.frame.DataFrame'>\n",
      "RangeIndex: 574 entries, 0 to 573\n",
      "Data columns (total 22 columns):\n",
      " #   Column             Non-Null Count  Dtype  \n",
      "---  ------             --------------  -----  \n",
      " 0   Country            574 non-null    object \n",
      " 1   WHOREGION          574 non-null    object \n",
      " 2   FLUREGION          574 non-null    object \n",
      " 3   Year               574 non-null    int64  \n",
      " 4   Week               574 non-null    int64  \n",
      " 5   SDATE              574 non-null    object \n",
      " 6   EDATE              574 non-null    object \n",
      " 7   SPEC_RECEIVED_NB   0 non-null      float64\n",
      " 8   SPEC_PROCESSED_NB  347 non-null    float64\n",
      " 9   AH1                344 non-null    float64\n",
      " 10  AH1N12009          344 non-null    float64\n",
      " 11  AH3                344 non-null    float64\n",
      " 12  AH5                0 non-null      float64\n",
      " 13  ANOTSUBTYPED       347 non-null    float64\n",
      " 14  INF_A              347 non-null    float64\n",
      " 15  BYAMAGATA          334 non-null    float64\n",
      " 16  BVICTORIA          334 non-null    float64\n",
      " 17  BNOTDETERMINED     344 non-null    float64\n",
      " 18  INF_B              344 non-null    float64\n",
      " 19  ALL_INF            347 non-null    float64\n",
      " 20  ALL_INF2           0 non-null      float64\n",
      " 21  TITLE              574 non-null    object \n",
      "dtypes: float64(14), int64(2), object(6)\n",
      "memory usage: 98.8+ KB\n"
     ]
    }
   ],
   "source": [
    "flu.info()"
   ]
  },
  {
   "cell_type": "code",
   "execution_count": 77,
   "metadata": {},
   "outputs": [],
   "source": [
    "# Drop the columns that are not relevant to our analysis\n",
    "flu = flu[['Country','EDATE','ALL_INF']].copy()"
   ]
  },
  {
   "cell_type": "code",
   "execution_count": 78,
   "metadata": {},
   "outputs": [
    {
     "data": {
      "text/html": [
       "<div>\n",
       "<style scoped>\n",
       "    .dataframe tbody tr th:only-of-type {\n",
       "        vertical-align: middle;\n",
       "    }\n",
       "\n",
       "    .dataframe tbody tr th {\n",
       "        vertical-align: top;\n",
       "    }\n",
       "\n",
       "    .dataframe thead th {\n",
       "        text-align: right;\n",
       "    }\n",
       "</style>\n",
       "<table border=\"1\" class=\"dataframe\">\n",
       "  <thead>\n",
       "    <tr style=\"text-align: right;\">\n",
       "      <th></th>\n",
       "      <th>Country</th>\n",
       "      <th>EDATE</th>\n",
       "      <th>ALL_INF</th>\n",
       "    </tr>\n",
       "  </thead>\n",
       "  <tbody>\n",
       "    <tr>\n",
       "      <th>0</th>\n",
       "      <td>Luxembourg</td>\n",
       "      <td>1/4/2009</td>\n",
       "      <td>4.0</td>\n",
       "    </tr>\n",
       "    <tr>\n",
       "      <th>1</th>\n",
       "      <td>Luxembourg</td>\n",
       "      <td>1/11/2009</td>\n",
       "      <td>15.0</td>\n",
       "    </tr>\n",
       "    <tr>\n",
       "      <th>2</th>\n",
       "      <td>Luxembourg</td>\n",
       "      <td>1/18/2009</td>\n",
       "      <td>58.0</td>\n",
       "    </tr>\n",
       "    <tr>\n",
       "      <th>3</th>\n",
       "      <td>Luxembourg</td>\n",
       "      <td>1/25/2009</td>\n",
       "      <td>NaN</td>\n",
       "    </tr>\n",
       "    <tr>\n",
       "      <th>4</th>\n",
       "      <td>Luxembourg</td>\n",
       "      <td>2/1/2009</td>\n",
       "      <td>NaN</td>\n",
       "    </tr>\n",
       "  </tbody>\n",
       "</table>\n",
       "</div>"
      ],
      "text/plain": [
       "      Country      EDATE  ALL_INF\n",
       "0  Luxembourg   1/4/2009      4.0\n",
       "1  Luxembourg  1/11/2009     15.0\n",
       "2  Luxembourg  1/18/2009     58.0\n",
       "3  Luxembourg  1/25/2009      NaN\n",
       "4  Luxembourg   2/1/2009      NaN"
      ]
     },
     "execution_count": 78,
     "metadata": {},
     "output_type": "execute_result"
    }
   ],
   "source": [
    "flu.head()"
   ]
  },
  {
   "cell_type": "code",
   "execution_count": 79,
   "metadata": {},
   "outputs": [
    {
     "data": {
      "text/plain": [
       "Country      0\n",
       "EDATE        0\n",
       "ALL_INF    227\n",
       "dtype: int64"
      ]
     },
     "execution_count": 79,
     "metadata": {},
     "output_type": "execute_result"
    }
   ],
   "source": [
    "flu.isna().sum()"
   ]
  },
  {
   "cell_type": "code",
   "execution_count": 80,
   "metadata": {},
   "outputs": [],
   "source": [
    "# Drop the weeks where Influenza cases are null\n",
    "flu = flu[flu['ALL_INF'].notna()]"
   ]
  },
  {
   "cell_type": "code",
   "execution_count": 81,
   "metadata": {},
   "outputs": [
    {
     "name": "stdout",
     "output_type": "stream",
     "text": [
      "<class 'pandas.core.frame.DataFrame'>\n",
      "Int64Index: 347 entries, 0 to 573\n",
      "Data columns (total 3 columns):\n",
      " #   Column   Non-Null Count  Dtype  \n",
      "---  ------   --------------  -----  \n",
      " 0   Country  347 non-null    object \n",
      " 1   EDATE    347 non-null    object \n",
      " 2   ALL_INF  347 non-null    float64\n",
      "dtypes: float64(1), object(2)\n",
      "memory usage: 10.8+ KB\n"
     ]
    }
   ],
   "source": [
    "flu.info()"
   ]
  },
  {
   "cell_type": "code",
   "execution_count": 82,
   "metadata": {},
   "outputs": [],
   "source": [
    "flu['EDATE'] = flu['EDATE'].astype('datetime64[ns]')\n",
    "\n",
    "flu['date']=flu['EDATE']\n",
    "flu.drop(['EDATE','Country'], axis=1, inplace=True)"
   ]
  },
  {
   "cell_type": "code",
   "execution_count": 83,
   "metadata": {},
   "outputs": [],
   "source": [
    "flu_weatherLux=pd.merge(flu, weekly_avg, on=['date'], how='outer')"
   ]
  },
  {
   "cell_type": "code",
   "execution_count": 84,
   "metadata": {},
   "outputs": [
    {
     "data": {
      "text/html": [
       "<div>\n",
       "<style scoped>\n",
       "    .dataframe tbody tr th:only-of-type {\n",
       "        vertical-align: middle;\n",
       "    }\n",
       "\n",
       "    .dataframe tbody tr th {\n",
       "        vertical-align: top;\n",
       "    }\n",
       "\n",
       "    .dataframe thead th {\n",
       "        text-align: right;\n",
       "    }\n",
       "</style>\n",
       "<table border=\"1\" class=\"dataframe\">\n",
       "  <thead>\n",
       "    <tr style=\"text-align: right;\">\n",
       "      <th></th>\n",
       "      <th>ALL_INF</th>\n",
       "      <th>date</th>\n",
       "      <th>avgTmax</th>\n",
       "      <th>avgTmin</th>\n",
       "      <th>totPrecip</th>\n",
       "    </tr>\n",
       "  </thead>\n",
       "  <tbody>\n",
       "    <tr>\n",
       "      <th>0</th>\n",
       "      <td>4.0</td>\n",
       "      <td>2009-01-04</td>\n",
       "      <td>45.705882</td>\n",
       "      <td>38.845330</td>\n",
       "      <td>0.0</td>\n",
       "    </tr>\n",
       "    <tr>\n",
       "      <th>1</th>\n",
       "      <td>15.0</td>\n",
       "      <td>2009-01-11</td>\n",
       "      <td>49.235294</td>\n",
       "      <td>38.845330</td>\n",
       "      <td>0.0</td>\n",
       "    </tr>\n",
       "    <tr>\n",
       "      <th>2</th>\n",
       "      <td>58.0</td>\n",
       "      <td>2009-01-18</td>\n",
       "      <td>32.277311</td>\n",
       "      <td>28.746664</td>\n",
       "      <td>0.4</td>\n",
       "    </tr>\n",
       "    <tr>\n",
       "      <th>3</th>\n",
       "      <td>2.0</td>\n",
       "      <td>2009-04-19</td>\n",
       "      <td>61.092437</td>\n",
       "      <td>53.625903</td>\n",
       "      <td>1.4</td>\n",
       "    </tr>\n",
       "    <tr>\n",
       "      <th>4</th>\n",
       "      <td>0.0</td>\n",
       "      <td>2009-04-26</td>\n",
       "      <td>55.941176</td>\n",
       "      <td>44.362284</td>\n",
       "      <td>1.4</td>\n",
       "    </tr>\n",
       "  </tbody>\n",
       "</table>\n",
       "</div>"
      ],
      "text/plain": [
       "   ALL_INF       date    avgTmax    avgTmin  totPrecip\n",
       "0      4.0 2009-01-04  45.705882  38.845330        0.0\n",
       "1     15.0 2009-01-11  49.235294  38.845330        0.0\n",
       "2     58.0 2009-01-18  32.277311  28.746664        0.4\n",
       "3      2.0 2009-04-19  61.092437  53.625903        1.4\n",
       "4      0.0 2009-04-26  55.941176  44.362284        1.4"
      ]
     },
     "execution_count": 84,
     "metadata": {},
     "output_type": "execute_result"
    }
   ],
   "source": [
    "flu_weatherLux.head()"
   ]
  },
  {
   "cell_type": "code",
   "execution_count": 85,
   "metadata": {},
   "outputs": [
    {
     "data": {
      "text/plain": [
       "ALL_INF      228\n",
       "date           0\n",
       "avgTmax        0\n",
       "avgTmin        0\n",
       "totPrecip      0\n",
       "dtype: int64"
      ]
     },
     "execution_count": 85,
     "metadata": {},
     "output_type": "execute_result"
    }
   ],
   "source": [
    "flu_weatherLux.isna().sum()"
   ]
  },
  {
   "cell_type": "code",
   "execution_count": 86,
   "metadata": {},
   "outputs": [],
   "source": [
    "# We have some empty values for flu counts because the WHO data is continuous throughout the year\n",
    "flu_weatherLux = flu_weatherLux[flu_weatherLux['ALL_INF'].notna()]"
   ]
  },
  {
   "cell_type": "code",
   "execution_count": 87,
   "metadata": {},
   "outputs": [],
   "source": [
    "flu_weatherLux = flu_weatherLux.rename(columns={'ALL_INF': 'Count'})"
   ]
  },
  {
   "cell_type": "code",
   "execution_count": 88,
   "metadata": {},
   "outputs": [
    {
     "name": "stdout",
     "output_type": "stream",
     "text": [
      "<class 'pandas.core.frame.DataFrame'>\n",
      "Int64Index: 347 entries, 0 to 346\n",
      "Data columns (total 5 columns):\n",
      " #   Column     Non-Null Count  Dtype         \n",
      "---  ------     --------------  -----         \n",
      " 0   Count      347 non-null    float64       \n",
      " 1   date       347 non-null    datetime64[ns]\n",
      " 2   avgTmax    347 non-null    float64       \n",
      " 3   avgTmin    347 non-null    float64       \n",
      " 4   totPrecip  347 non-null    float64       \n",
      "dtypes: datetime64[ns](1), float64(4)\n",
      "memory usage: 16.3 KB\n"
     ]
    }
   ],
   "source": [
    "flu_weatherLux.info()"
   ]
  },
  {
   "cell_type": "code",
   "execution_count": 89,
   "metadata": {},
   "outputs": [
    {
     "data": {
      "text/html": [
       "<div>\n",
       "<style scoped>\n",
       "    .dataframe tbody tr th:only-of-type {\n",
       "        vertical-align: middle;\n",
       "    }\n",
       "\n",
       "    .dataframe tbody tr th {\n",
       "        vertical-align: top;\n",
       "    }\n",
       "\n",
       "    .dataframe thead th {\n",
       "        text-align: right;\n",
       "    }\n",
       "</style>\n",
       "<table border=\"1\" class=\"dataframe\">\n",
       "  <thead>\n",
       "    <tr style=\"text-align: right;\">\n",
       "      <th></th>\n",
       "      <th>Count</th>\n",
       "      <th>avgTmax</th>\n",
       "      <th>avgTmin</th>\n",
       "      <th>totPrecip</th>\n",
       "    </tr>\n",
       "  </thead>\n",
       "  <tbody>\n",
       "    <tr>\n",
       "      <th>count</th>\n",
       "      <td>347.000000</td>\n",
       "      <td>347.000000</td>\n",
       "      <td>347.000000</td>\n",
       "      <td>347.000000</td>\n",
       "    </tr>\n",
       "    <tr>\n",
       "      <th>mean</th>\n",
       "      <td>15.184438</td>\n",
       "      <td>56.239774</td>\n",
       "      <td>37.747030</td>\n",
       "      <td>0.985014</td>\n",
       "    </tr>\n",
       "    <tr>\n",
       "      <th>std</th>\n",
       "      <td>27.260687</td>\n",
       "      <td>11.425199</td>\n",
       "      <td>10.595148</td>\n",
       "      <td>0.473830</td>\n",
       "    </tr>\n",
       "    <tr>\n",
       "      <th>min</th>\n",
       "      <td>0.000000</td>\n",
       "      <td>11.571429</td>\n",
       "      <td>6.977904</td>\n",
       "      <td>0.000000</td>\n",
       "    </tr>\n",
       "    <tr>\n",
       "      <th>25%</th>\n",
       "      <td>0.000000</td>\n",
       "      <td>54.352941</td>\n",
       "      <td>30.060381</td>\n",
       "      <td>0.600000</td>\n",
       "    </tr>\n",
       "    <tr>\n",
       "      <th>50%</th>\n",
       "      <td>1.000000</td>\n",
       "      <td>55.941176</td>\n",
       "      <td>38.845330</td>\n",
       "      <td>1.200000</td>\n",
       "    </tr>\n",
       "    <tr>\n",
       "      <th>75%</th>\n",
       "      <td>18.000000</td>\n",
       "      <td>62.991597</td>\n",
       "      <td>44.384380</td>\n",
       "      <td>1.400000</td>\n",
       "    </tr>\n",
       "    <tr>\n",
       "      <th>max</th>\n",
       "      <td>185.000000</td>\n",
       "      <td>85.000000</td>\n",
       "      <td>65.120761</td>\n",
       "      <td>1.400000</td>\n",
       "    </tr>\n",
       "  </tbody>\n",
       "</table>\n",
       "</div>"
      ],
      "text/plain": [
       "            Count     avgTmax     avgTmin   totPrecip\n",
       "count  347.000000  347.000000  347.000000  347.000000\n",
       "mean    15.184438   56.239774   37.747030    0.985014\n",
       "std     27.260687   11.425199   10.595148    0.473830\n",
       "min      0.000000   11.571429    6.977904    0.000000\n",
       "25%      0.000000   54.352941   30.060381    0.600000\n",
       "50%      1.000000   55.941176   38.845330    1.200000\n",
       "75%     18.000000   62.991597   44.384380    1.400000\n",
       "max    185.000000   85.000000   65.120761    1.400000"
      ]
     },
     "execution_count": 89,
     "metadata": {},
     "output_type": "execute_result"
    }
   ],
   "source": [
    "flu_weatherLux.describe()"
   ]
  },
  {
   "cell_type": "code",
   "execution_count": 90,
   "metadata": {},
   "outputs": [
    {
     "data": {
      "text/plain": [
       "Text(0.5, 1.0, 'Weekly Precipitation vs Positive Flu Cases Luxembourg')"
      ]
     },
     "execution_count": 90,
     "metadata": {},
     "output_type": "execute_result"
    },
    {
     "data": {
      "image/png": "[encoded data removed]",
      "text/plain": [
       "<Figure size 720x360 with 2 Axes>"
      ]
     },
     "metadata": {
      "needs_background": "light"
     },
     "output_type": "display_data"
    }
   ],
   "source": [
    "plt.rcParams['figure.figsize'] = [10, 5]\n",
    "fig, ax = plt.subplots(frameon=False)\n",
    "ax2=ax.twinx()\n",
    "\n",
    "ax.plot(flu_weatherLux['date'], flu_weatherLux['Count'], color='r')\n",
    "ax2.plot(flu_weatherLux['date'], flu_weatherLux['totPrecip'], color='b')\n",
    "\n",
    "# set title\n",
    "plt.title('Weekly Precipitation vs Positive Flu Cases Luxembourg')"
   ]
  },
  {
   "cell_type": "code",
   "execution_count": 91,
   "metadata": {},
   "outputs": [
    {
     "data": {
      "text/plain": [
       "Text(0.5, 1.0, 'Avg Maximum Temp vs Positive Flu Cases Luxembourg')"
      ]
     },
     "execution_count": 91,
     "metadata": {},
     "output_type": "execute_result"
    },
    {
     "data": {
      "image/png": "[encoded data removed]",
      "text/plain": [
       "<Figure size 720x360 with 2 Axes>"
      ]
     },
     "metadata": {
      "needs_background": "light"
     },
     "output_type": "display_data"
    }
   ],
   "source": [
    "plt.rcParams['figure.figsize'] = [10, 5]\n",
    "fig, ax = plt.subplots(frameon=False)\n",
    "ax2=ax.twinx()\n",
    "\n",
    "ax.plot(flu_weatherLux['date'], flu_weatherLux['Count'], color='r')\n",
    "ax2.plot(flu_weatherLux['date'], flu_weatherLux['avgTmax'], color='g')\n",
    "\n",
    "# set title\n",
    "plt.title('Avg Maximum Temp vs Positive Flu Cases Luxembourg')"
   ]
  },
  {
   "cell_type": "code",
   "execution_count": 92,
   "metadata": {},
   "outputs": [
    {
     "data": {
      "text/plain": [
       "Text(0.5, 1.0, 'Avg Minimum Temp vs Positive Flu Cases Luxembourg')"
      ]
     },
     "execution_count": 92,
     "metadata": {},
     "output_type": "execute_result"
    },
    {
     "data": {
      "image/png": "[encoded data removed]",
      "text/plain": [
       "<Figure size 720x360 with 2 Axes>"
      ]
     },
     "metadata": {
      "needs_background": "light"
     },
     "output_type": "display_data"
    }
   ],
   "source": [
    "plt.rcParams['figure.figsize'] = [10, 5]\n",
    "fig, ax = plt.subplots(frameon=False)\n",
    "ax2=ax.twinx()\n",
    "\n",
    "ax.plot(flu_weatherLux['date'], flu_weatherLux['Count'], color='r')\n",
    "ax2.plot(flu_weatherLux['date'], flu_weatherLux['avgTmin'], color='b')\n",
    "\n",
    "# set title\n",
    "plt.title('Avg Minimum Temp vs Positive Flu Cases Luxembourg')"
   ]
  },
  {
   "cell_type": "markdown",
   "metadata": {},
   "source": [
    "### Add Malta to our dataset"
   ]
  },
  {
   "cell_type": "code",
   "execution_count": 93,
   "metadata": {},
   "outputs": [
    {
     "name": "stdout",
     "output_type": "stream",
     "text": [
      "GHCND:MT000016597\n"
     ]
    }
   ],
   "source": [
    "# variables based on my station search\n",
    "network = 'GHCND'\n",
    "ID = 'MT000016597'\n",
    "station_id = network + ':' + ID\n",
    "print(station_id)"
   ]
  },
  {
   "cell_type": "code",
   "execution_count": 94,
   "metadata": {},
   "outputs": [
    {
     "data": {
      "text/plain": [
       "{'limit': '1000',\n",
       " 'datasetid': 'GHCND',\n",
       " 'stationid': 'GHCND:LU000006590',\n",
       " 'datatypeid': 'prcp',\n",
       " 'startdate': '2019-01-01',\n",
       " 'enddate': '2019-12-31'}"
      ]
     },
     "execution_count": 94,
     "metadata": {},
     "output_type": "execute_result"
    }
   ],
   "source": [
    "# append additional parameters to data dictionary\n",
    "data.update({'datatypeid': 'prcp'})\n",
    "data.update({'startdate': '2019-01-01'})\n",
    "data.update({'enddate': '2019-12-31'})\n",
    "data"
   ]
  },
  {
   "cell_type": "code",
   "execution_count": 95,
   "metadata": {},
   "outputs": [],
   "source": [
    "# make the request to get our year of data\n",
    "t = requests.get('https://www.ncdc.noaa.gov/cdo-web/api/v2/data',params = data, headers = {'token':token})\n",
    "\n",
    "#load the api response as a json\n",
    "Precip = json.loads(t.text)\n",
    "\n",
    "#Build the initial dataframe\n",
    "df=pd.json_normalize(Precip, 'results')\n",
    "\n",
    "#Rename the column with the values to the datatype and remove the excess values\n",
    "df=df.rename(columns = {'value':'PRCP'})\n",
    "df.drop(['attributes','datatype'], axis=1, inplace=True)"
   ]
  },
  {
   "cell_type": "code",
   "execution_count": 96,
   "metadata": {},
   "outputs": [
    {
     "data": {
      "text/html": [
       "<div>\n",
       "<style scoped>\n",
       "    .dataframe tbody tr th:only-of-type {\n",
       "        vertical-align: middle;\n",
       "    }\n",
       "\n",
       "    .dataframe tbody tr th {\n",
       "        vertical-align: top;\n",
       "    }\n",
       "\n",
       "    .dataframe thead th {\n",
       "        text-align: right;\n",
       "    }\n",
       "</style>\n",
       "<table border=\"1\" class=\"dataframe\">\n",
       "  <thead>\n",
       "    <tr style=\"text-align: right;\">\n",
       "      <th></th>\n",
       "      <th>date</th>\n",
       "      <th>station</th>\n",
       "      <th>PRCP</th>\n",
       "    </tr>\n",
       "  </thead>\n",
       "  <tbody>\n",
       "    <tr>\n",
       "      <th>0</th>\n",
       "      <td>2019-01-01T00:00:00</td>\n",
       "      <td>GHCND:LU000006590</td>\n",
       "      <td>13</td>\n",
       "    </tr>\n",
       "    <tr>\n",
       "      <th>1</th>\n",
       "      <td>2019-01-02T00:00:00</td>\n",
       "      <td>GHCND:LU000006590</td>\n",
       "      <td>0</td>\n",
       "    </tr>\n",
       "    <tr>\n",
       "      <th>2</th>\n",
       "      <td>2019-01-03T00:00:00</td>\n",
       "      <td>GHCND:LU000006590</td>\n",
       "      <td>0</td>\n",
       "    </tr>\n",
       "    <tr>\n",
       "      <th>3</th>\n",
       "      <td>2019-01-04T00:00:00</td>\n",
       "      <td>GHCND:LU000006590</td>\n",
       "      <td>13</td>\n",
       "    </tr>\n",
       "    <tr>\n",
       "      <th>4</th>\n",
       "      <td>2019-01-05T00:00:00</td>\n",
       "      <td>GHCND:LU000006590</td>\n",
       "      <td>6</td>\n",
       "    </tr>\n",
       "  </tbody>\n",
       "</table>\n",
       "</div>"
      ],
      "text/plain": [
       "                  date            station  PRCP\n",
       "0  2019-01-01T00:00:00  GHCND:LU000006590    13\n",
       "1  2019-01-02T00:00:00  GHCND:LU000006590     0\n",
       "2  2019-01-03T00:00:00  GHCND:LU000006590     0\n",
       "3  2019-01-04T00:00:00  GHCND:LU000006590    13\n",
       "4  2019-01-05T00:00:00  GHCND:LU000006590     6"
      ]
     },
     "execution_count": 96,
     "metadata": {},
     "output_type": "execute_result"
    }
   ],
   "source": [
    "df.head()"
   ]
  },
  {
   "cell_type": "code",
   "execution_count": 97,
   "metadata": {},
   "outputs": [],
   "source": [
    "#Build our dataframe to include the additional required parameters\n",
    "\n",
    "types = ['tmax','tmin']\n",
    "\n",
    "for i in types:\n",
    "    data.update({'datatypeid': i})\n",
    "    j = requests.get('https://www.ncdc.noaa.gov/cdo-web/api/v2/data',params = data, headers = {'token':token})\n",
    "    o = json.loads(j.text)\n",
    "        \n",
    "    #create new dataframe with api results\n",
    "    df2 = pd.json_normalize(o, 'results')\n",
    "    df2=df2.rename(columns = {'value':i})\n",
    "    df2.drop(['station','attributes','datatype'], axis=1, inplace=True)\n",
    "    \n",
    "    #merge the new dataframe with the base one on the date column\n",
    "    df = pd.merge(df, df2, on=['date'], how='outer')"
   ]
  },
  {
   "cell_type": "code",
   "execution_count": 98,
   "metadata": {},
   "outputs": [],
   "source": [
    "#Build our our dataframe to include previous years\n",
    "data.update({'datatypeid': 'prcp'})\n",
    "dates = ['2018','2017','2016','2015','2014','2013','2012','2011','2010','2009']\n",
    "\n",
    "for d in dates:\n",
    "    \n",
    "    #set the start and end dates\n",
    "    sd = f'{d}-01-01'\n",
    "    ed = f'{d}-12-31'\n",
    "    data.update({'startdate': sd})\n",
    "    data.update({'enddate': ed})\n",
    "\n",
    "    #Call to api to get results\n",
    "    j = requests.get('https://www.ncdc.noaa.gov/cdo-web/api/v2/data',params = data, headers = {'token':token})\n",
    "    o = json.loads(j.text)\n",
    "        \n",
    "    #create new dataframe with api results\n",
    "    df2 = pd.json_normalize(o, 'results')\n",
    "    df2=df2.rename(columns = {'value':'PRCP'})\n",
    "    df2.drop(['attributes','datatype'], axis=1, inplace=True)\n",
    "    \n",
    "    #add data for each of the datatypes\n",
    "    types = ['tmax','tmin']\n",
    "\n",
    "    for i in types:\n",
    "        data.update({'datatypeid': i})\n",
    "        \n",
    "        #Call to api to get results\n",
    "        j = requests.get('https://www.ncdc.noaa.gov/cdo-web/api/v2/data',params = data, headers = {'token':token})\n",
    "        o = json.loads(j.text)\n",
    "        \n",
    "        #create new dataframe with api results\n",
    "        df3 = pd.json_normalize(o, 'results')\n",
    "        df3=df3.rename(columns = {'value':i})\n",
    "        df3.drop(['station','attributes','datatype'], axis=1, inplace=True)\n",
    "    \n",
    "        #merge the new dataframe with the base one on the date column\n",
    "        df2 = pd.merge(df2, df3, on=['date'], how='outer')\n",
    "    \n",
    "    #merge the new dataframe with the base one on the date column\n",
    "    df = pd.concat([df, df2])"
   ]
  },
  {
   "cell_type": "code",
   "execution_count": 99,
   "metadata": {},
   "outputs": [
    {
     "name": "stdout",
     "output_type": "stream",
     "text": [
      "<class 'pandas.core.frame.DataFrame'>\n",
      "Int64Index: 4017 entries, 0 to 364\n",
      "Data columns (total 5 columns):\n",
      " #   Column   Non-Null Count  Dtype \n",
      "---  ------   --------------  ----- \n",
      " 0   date     4017 non-null   object\n",
      " 1   station  4017 non-null   object\n",
      " 2   PRCP     4017 non-null   int64 \n",
      " 3   tmax     4017 non-null   int64 \n",
      " 4   tmin     4017 non-null   int64 \n",
      "dtypes: int64(3), object(2)\n",
      "memory usage: 188.3+ KB\n"
     ]
    }
   ],
   "source": [
    "df.info()"
   ]
  },
  {
   "cell_type": "code",
   "execution_count": 100,
   "metadata": {},
   "outputs": [],
   "source": [
    "#Create a column with the date\n",
    "df['datetime']=pd.to_datetime(df['date'])\n",
    "#Create a column with the week number for the year\n",
    "df['week']=df['datetime'].dt.isocalendar().week\n",
    "#then drop the older date column\n",
    "df.drop(['date'], axis=1, inplace=True)"
   ]
  },
  {
   "cell_type": "code",
   "execution_count": 101,
   "metadata": {},
   "outputs": [],
   "source": [
    "weatherMal = df"
   ]
  },
  {
   "cell_type": "code",
   "execution_count": 102,
   "metadata": {},
   "outputs": [],
   "source": [
    "weatherMal.to_csv('weatherMal.csv', index=False)"
   ]
  },
  {
   "cell_type": "code",
   "execution_count": 103,
   "metadata": {},
   "outputs": [],
   "source": [
    "weatherMal=pd.read_csv('weatherMal.csv')"
   ]
  },
  {
   "cell_type": "code",
   "execution_count": 104,
   "metadata": {},
   "outputs": [],
   "source": [
    "weatherMal['datetime'] = weatherMal['datetime'].astype('datetime64[ns]')"
   ]
  },
  {
   "cell_type": "code",
   "execution_count": 105,
   "metadata": {},
   "outputs": [
    {
     "data": {
      "text/html": [
       "<div>\n",
       "<style scoped>\n",
       "    .dataframe tbody tr th:only-of-type {\n",
       "        vertical-align: middle;\n",
       "    }\n",
       "\n",
       "    .dataframe tbody tr th {\n",
       "        vertical-align: top;\n",
       "    }\n",
       "\n",
       "    .dataframe thead th {\n",
       "        text-align: right;\n",
       "    }\n",
       "</style>\n",
       "<table border=\"1\" class=\"dataframe\">\n",
       "  <thead>\n",
       "    <tr style=\"text-align: right;\">\n",
       "      <th></th>\n",
       "      <th>PRCP</th>\n",
       "      <th>tmax</th>\n",
       "      <th>tmin</th>\n",
       "      <th>week</th>\n",
       "    </tr>\n",
       "  </thead>\n",
       "  <tbody>\n",
       "    <tr>\n",
       "      <th>count</th>\n",
       "      <td>4017.000000</td>\n",
       "      <td>4017.000000</td>\n",
       "      <td>4017.000000</td>\n",
       "      <td>4017.000000</td>\n",
       "    </tr>\n",
       "    <tr>\n",
       "      <th>mean</th>\n",
       "      <td>54.742096</td>\n",
       "      <td>140.822255</td>\n",
       "      <td>63.466019</td>\n",
       "      <td>26.598706</td>\n",
       "    </tr>\n",
       "    <tr>\n",
       "      <th>std</th>\n",
       "      <td>62.961881</td>\n",
       "      <td>85.544755</td>\n",
       "      <td>64.060315</td>\n",
       "      <td>15.061652</td>\n",
       "    </tr>\n",
       "    <tr>\n",
       "      <th>min</th>\n",
       "      <td>-150.000000</td>\n",
       "      <td>-80.000000</td>\n",
       "      <td>-150.000000</td>\n",
       "      <td>1.000000</td>\n",
       "    </tr>\n",
       "    <tr>\n",
       "      <th>25%</th>\n",
       "      <td>1.000000</td>\n",
       "      <td>73.000000</td>\n",
       "      <td>15.000000</td>\n",
       "      <td>14.000000</td>\n",
       "    </tr>\n",
       "    <tr>\n",
       "      <th>50%</th>\n",
       "      <td>49.000000</td>\n",
       "      <td>143.000000</td>\n",
       "      <td>65.000000</td>\n",
       "      <td>27.000000</td>\n",
       "    </tr>\n",
       "    <tr>\n",
       "      <th>75%</th>\n",
       "      <td>103.000000</td>\n",
       "      <td>206.000000</td>\n",
       "      <td>114.000000</td>\n",
       "      <td>40.000000</td>\n",
       "    </tr>\n",
       "    <tr>\n",
       "      <th>max</th>\n",
       "      <td>419.000000</td>\n",
       "      <td>390.000000</td>\n",
       "      <td>241.000000</td>\n",
       "      <td>53.000000</td>\n",
       "    </tr>\n",
       "  </tbody>\n",
       "</table>\n",
       "</div>"
      ],
      "text/plain": [
       "              PRCP         tmax         tmin         week\n",
       "count  4017.000000  4017.000000  4017.000000  4017.000000\n",
       "mean     54.742096   140.822255    63.466019    26.598706\n",
       "std      62.961881    85.544755    64.060315    15.061652\n",
       "min    -150.000000   -80.000000  -150.000000     1.000000\n",
       "25%       1.000000    73.000000    15.000000    14.000000\n",
       "50%      49.000000   143.000000    65.000000    27.000000\n",
       "75%     103.000000   206.000000   114.000000    40.000000\n",
       "max     419.000000   390.000000   241.000000    53.000000"
      ]
     },
     "execution_count": 105,
     "metadata": {},
     "output_type": "execute_result"
    }
   ],
   "source": [
    "weatherMal.describe()"
   ]
  },
  {
   "cell_type": "code",
   "execution_count": 106,
   "metadata": {},
   "outputs": [],
   "source": [
    "# we have extraneous precipitation and temperature numbers that need to be addressed based on the highest temps generally\n",
    "# reaching 100° and the general lows at 40° I am going to keep all values between 40° and 100°. I will change the \n",
    "# outliers to NaN and then do a forward fill.\n",
    "\n",
    "# deal with the minimum values\n",
    "weatherMal.loc[(weatherMal.PRCP < 0),'PRCP']=0\n",
    "weatherMal.loc[(weatherMal.tmax < 50),'tmax']=np.nan\n",
    "weatherMal.loc[(weatherMal.tmin < 40),'tmin']=np.nan\n",
    "\n",
    "# deal with the maximum values\n",
    "weatherMal.loc[(weatherMal.PRCP > .2),'PRCP']=.2\n",
    "weatherMal.loc[(weatherMal.tmax > 100),'tmax']=np.nan\n",
    "weatherMal.loc[(weatherMal.tmin > 80),'tmin']=np.nan"
   ]
  },
  {
   "cell_type": "code",
   "execution_count": 107,
   "metadata": {},
   "outputs": [
    {
     "name": "stderr",
     "output_type": "stream",
     "text": [
      "C:\\Users\\eesti\\Anaconda3\\lib\\site-packages\\ipykernel_launcher.py:2: FutureWarning: DataFrame.mean and DataFrame.median with numeric_only=None will include datetime64 and datetime64tz columns in a future version.\n",
      "  \n"
     ]
    }
   ],
   "source": [
    "# Fill the remaining na values utilizing the mean value for each column\n",
    "weatherMal.fillna(weatherMal.mean(), inplace=True)"
   ]
  },
  {
   "cell_type": "code",
   "execution_count": 108,
   "metadata": {},
   "outputs": [
    {
     "data": {
      "text/html": [
       "<div>\n",
       "<style scoped>\n",
       "    .dataframe tbody tr th:only-of-type {\n",
       "        vertical-align: middle;\n",
       "    }\n",
       "\n",
       "    .dataframe tbody tr th {\n",
       "        vertical-align: top;\n",
       "    }\n",
       "\n",
       "    .dataframe thead th {\n",
       "        text-align: right;\n",
       "    }\n",
       "</style>\n",
       "<table border=\"1\" class=\"dataframe\">\n",
       "  <thead>\n",
       "    <tr style=\"text-align: right;\">\n",
       "      <th></th>\n",
       "      <th>PRCP</th>\n",
       "      <th>tmax</th>\n",
       "      <th>tmin</th>\n",
       "      <th>week</th>\n",
       "    </tr>\n",
       "  </thead>\n",
       "  <tbody>\n",
       "    <tr>\n",
       "      <th>count</th>\n",
       "      <td>4017.000000</td>\n",
       "      <td>4017.000000</td>\n",
       "      <td>4017.000000</td>\n",
       "      <td>4017.000000</td>\n",
       "    </tr>\n",
       "    <tr>\n",
       "      <th>mean</th>\n",
       "      <td>0.151407</td>\n",
       "      <td>75.489933</td>\n",
       "      <td>60.118932</td>\n",
       "      <td>26.598706</td>\n",
       "    </tr>\n",
       "    <tr>\n",
       "      <th>std</th>\n",
       "      <td>0.085786</td>\n",
       "      <td>6.182729</td>\n",
       "      <td>5.306876</td>\n",
       "      <td>15.061652</td>\n",
       "    </tr>\n",
       "    <tr>\n",
       "      <th>min</th>\n",
       "      <td>0.000000</td>\n",
       "      <td>50.000000</td>\n",
       "      <td>40.000000</td>\n",
       "      <td>1.000000</td>\n",
       "    </tr>\n",
       "    <tr>\n",
       "      <th>25%</th>\n",
       "      <td>0.200000</td>\n",
       "      <td>75.489933</td>\n",
       "      <td>60.118932</td>\n",
       "      <td>14.000000</td>\n",
       "    </tr>\n",
       "    <tr>\n",
       "      <th>50%</th>\n",
       "      <td>0.200000</td>\n",
       "      <td>75.489933</td>\n",
       "      <td>60.118932</td>\n",
       "      <td>27.000000</td>\n",
       "    </tr>\n",
       "    <tr>\n",
       "      <th>75%</th>\n",
       "      <td>0.200000</td>\n",
       "      <td>75.489933</td>\n",
       "      <td>60.118932</td>\n",
       "      <td>40.000000</td>\n",
       "    </tr>\n",
       "    <tr>\n",
       "      <th>max</th>\n",
       "      <td>0.200000</td>\n",
       "      <td>100.000000</td>\n",
       "      <td>80.000000</td>\n",
       "      <td>53.000000</td>\n",
       "    </tr>\n",
       "  </tbody>\n",
       "</table>\n",
       "</div>"
      ],
      "text/plain": [
       "              PRCP         tmax         tmin         week\n",
       "count  4017.000000  4017.000000  4017.000000  4017.000000\n",
       "mean      0.151407    75.489933    60.118932    26.598706\n",
       "std       0.085786     6.182729     5.306876    15.061652\n",
       "min       0.000000    50.000000    40.000000     1.000000\n",
       "25%       0.200000    75.489933    60.118932    14.000000\n",
       "50%       0.200000    75.489933    60.118932    27.000000\n",
       "75%       0.200000    75.489933    60.118932    40.000000\n",
       "max       0.200000   100.000000    80.000000    53.000000"
      ]
     },
     "execution_count": 108,
     "metadata": {},
     "output_type": "execute_result"
    }
   ],
   "source": [
    "weatherMal.describe()"
   ]
  },
  {
   "cell_type": "code",
   "execution_count": 109,
   "metadata": {},
   "outputs": [],
   "source": [
    "# WHO data weeks end on Sunday, so we need to modify the date\n",
    "weekly_avg = weatherLux.resample('W-Sun', label='right', closed = 'right', on='datetime').mean().reset_index().sort_values(by='datetime')"
   ]
  },
  {
   "cell_type": "code",
   "execution_count": 110,
   "metadata": {},
   "outputs": [],
   "source": [
    "weekly_avg.rename({'PRCP': 'avgPrecip', 'awnd': 'avgAwnd', 'tmax': 'avgTmax', 'tmin':'avgTmin'}, axis=1, inplace=True)"
   ]
  },
  {
   "cell_type": "code",
   "execution_count": 111,
   "metadata": {},
   "outputs": [
    {
     "name": "stdout",
     "output_type": "stream",
     "text": [
      "<class 'pandas.core.frame.DataFrame'>\n",
      "Int64Index: 575 entries, 0 to 574\n",
      "Data columns (total 5 columns):\n",
      " #   Column     Non-Null Count  Dtype         \n",
      "---  ------     --------------  -----         \n",
      " 0   datetime   575 non-null    datetime64[ns]\n",
      " 1   avgPrecip  575 non-null    float64       \n",
      " 2   avgTmax    575 non-null    float64       \n",
      " 3   avgTmin    575 non-null    float64       \n",
      " 4   week       575 non-null    int64         \n",
      "dtypes: datetime64[ns](1), float64(3), int64(1)\n",
      "memory usage: 27.0 KB\n"
     ]
    }
   ],
   "source": [
    "weekly_avg.info()"
   ]
  },
  {
   "cell_type": "code",
   "execution_count": 112,
   "metadata": {},
   "outputs": [],
   "source": [
    "weekly_avg['date'] = weekly_avg['datetime']\n",
    "\n",
    "# Drop the old date column and the week column\n",
    "weekly_avg.drop(['datetime','week'], axis=1, inplace=True)"
   ]
  },
  {
   "cell_type": "code",
   "execution_count": 113,
   "metadata": {},
   "outputs": [],
   "source": [
    "# Change avgPrecip to total precipitation for the week\n",
    "weekly_avg['totPrecip']= weekly_avg.avgPrecip * 7\n",
    "weekly_avg.drop(['avgPrecip'], axis=1, inplace=True)"
   ]
  },
  {
   "cell_type": "code",
   "execution_count": 114,
   "metadata": {},
   "outputs": [
    {
     "data": {
      "text/html": [
       "<div>\n",
       "<style scoped>\n",
       "    .dataframe tbody tr th:only-of-type {\n",
       "        vertical-align: middle;\n",
       "    }\n",
       "\n",
       "    .dataframe tbody tr th {\n",
       "        vertical-align: top;\n",
       "    }\n",
       "\n",
       "    .dataframe thead th {\n",
       "        text-align: right;\n",
       "    }\n",
       "</style>\n",
       "<table border=\"1\" class=\"dataframe\">\n",
       "  <thead>\n",
       "    <tr style=\"text-align: right;\">\n",
       "      <th></th>\n",
       "      <th>avgTmax</th>\n",
       "      <th>avgTmin</th>\n",
       "      <th>totPrecip</th>\n",
       "    </tr>\n",
       "  </thead>\n",
       "  <tbody>\n",
       "    <tr>\n",
       "      <th>count</th>\n",
       "      <td>575.000000</td>\n",
       "      <td>575.000000</td>\n",
       "      <td>575.000000</td>\n",
       "    </tr>\n",
       "    <tr>\n",
       "      <th>mean</th>\n",
       "      <td>55.928031</td>\n",
       "      <td>38.845330</td>\n",
       "      <td>1.057739</td>\n",
       "    </tr>\n",
       "    <tr>\n",
       "      <th>std</th>\n",
       "      <td>9.554282</td>\n",
       "      <td>9.354592</td>\n",
       "      <td>0.469270</td>\n",
       "    </tr>\n",
       "    <tr>\n",
       "      <th>min</th>\n",
       "      <td>11.571429</td>\n",
       "      <td>6.977904</td>\n",
       "      <td>0.000000</td>\n",
       "    </tr>\n",
       "    <tr>\n",
       "      <th>25%</th>\n",
       "      <td>55.941176</td>\n",
       "      <td>34.438854</td>\n",
       "      <td>0.800000</td>\n",
       "    </tr>\n",
       "    <tr>\n",
       "      <th>50%</th>\n",
       "      <td>55.941176</td>\n",
       "      <td>38.845330</td>\n",
       "      <td>1.400000</td>\n",
       "    </tr>\n",
       "    <tr>\n",
       "      <th>75%</th>\n",
       "      <td>59.949580</td>\n",
       "      <td>43.862284</td>\n",
       "      <td>1.400000</td>\n",
       "    </tr>\n",
       "    <tr>\n",
       "      <th>max</th>\n",
       "      <td>85.000000</td>\n",
       "      <td>65.120761</td>\n",
       "      <td>1.400000</td>\n",
       "    </tr>\n",
       "  </tbody>\n",
       "</table>\n",
       "</div>"
      ],
      "text/plain": [
       "          avgTmax     avgTmin   totPrecip\n",
       "count  575.000000  575.000000  575.000000\n",
       "mean    55.928031   38.845330    1.057739\n",
       "std      9.554282    9.354592    0.469270\n",
       "min     11.571429    6.977904    0.000000\n",
       "25%     55.941176   34.438854    0.800000\n",
       "50%     55.941176   38.845330    1.400000\n",
       "75%     59.949580   43.862284    1.400000\n",
       "max     85.000000   65.120761    1.400000"
      ]
     },
     "execution_count": 114,
     "metadata": {},
     "output_type": "execute_result"
    }
   ],
   "source": [
    "weekly_avg.describe()"
   ]
  },
  {
   "cell_type": "code",
   "execution_count": 115,
   "metadata": {},
   "outputs": [
    {
     "data": {
      "text/plain": [
       "avgTmax      0\n",
       "avgTmin      0\n",
       "date         0\n",
       "totPrecip    0\n",
       "dtype: int64"
      ]
     },
     "execution_count": 115,
     "metadata": {},
     "output_type": "execute_result"
    }
   ],
   "source": [
    "weekly_avg.isna().sum()"
   ]
  },
  {
   "cell_type": "code",
   "execution_count": 116,
   "metadata": {},
   "outputs": [],
   "source": [
    "flu = pd.read_csv('Mal_Flu.csv')"
   ]
  },
  {
   "cell_type": "code",
   "execution_count": 117,
   "metadata": {},
   "outputs": [
    {
     "name": "stdout",
     "output_type": "stream",
     "text": [
      "<class 'pandas.core.frame.DataFrame'>\n",
      "RangeIndex: 534 entries, 0 to 533\n",
      "Data columns (total 22 columns):\n",
      " #   Column             Non-Null Count  Dtype  \n",
      "---  ------             --------------  -----  \n",
      " 0   Country            534 non-null    object \n",
      " 1   WHOREGION          534 non-null    object \n",
      " 2   FLUREGION          534 non-null    object \n",
      " 3   Year               534 non-null    int64  \n",
      " 4   Week               534 non-null    int64  \n",
      " 5   SDATE              534 non-null    object \n",
      " 6   EDATE              534 non-null    object \n",
      " 7   SPEC_RECEIVED_NB   0 non-null      float64\n",
      " 8   SPEC_PROCESSED_NB  355 non-null    float64\n",
      " 9   AH1                355 non-null    float64\n",
      " 10  AH1N12009          355 non-null    float64\n",
      " 11  AH3                355 non-null    float64\n",
      " 12  AH5                0 non-null      float64\n",
      " 13  ANOTSUBTYPED       355 non-null    float64\n",
      " 14  INF_A              355 non-null    float64\n",
      " 15  BYAMAGATA          355 non-null    float64\n",
      " 16  BVICTORIA          355 non-null    float64\n",
      " 17  BNOTDETERMINED     355 non-null    float64\n",
      " 18  INF_B              355 non-null    float64\n",
      " 19  ALL_INF            355 non-null    float64\n",
      " 20  ALL_INF2           0 non-null      float64\n",
      " 21  TITLE              534 non-null    object \n",
      "dtypes: float64(14), int64(2), object(6)\n",
      "memory usage: 91.9+ KB\n"
     ]
    }
   ],
   "source": [
    "flu.info()"
   ]
  },
  {
   "cell_type": "code",
   "execution_count": 118,
   "metadata": {},
   "outputs": [],
   "source": [
    "# Drop the columns that are not relevant to our analysis\n",
    "flu = flu[['Country','EDATE','ALL_INF']].copy()"
   ]
  },
  {
   "cell_type": "code",
   "execution_count": 119,
   "metadata": {},
   "outputs": [],
   "source": [
    "flu['EDATE'] = flu['EDATE'].astype('datetime64[ns]')\n",
    "\n",
    "flu['date']=flu['EDATE']\n",
    "flu.drop(['EDATE', 'Country'], axis=1, inplace=True)"
   ]
  },
  {
   "cell_type": "code",
   "execution_count": 120,
   "metadata": {},
   "outputs": [],
   "source": [
    "flu_weatherMal=pd.merge(flu, weekly_avg, on=['date'], how='outer')"
   ]
  },
  {
   "cell_type": "code",
   "execution_count": 121,
   "metadata": {},
   "outputs": [
    {
     "data": {
      "text/html": [
       "<div>\n",
       "<style scoped>\n",
       "    .dataframe tbody tr th:only-of-type {\n",
       "        vertical-align: middle;\n",
       "    }\n",
       "\n",
       "    .dataframe tbody tr th {\n",
       "        vertical-align: top;\n",
       "    }\n",
       "\n",
       "    .dataframe thead th {\n",
       "        text-align: right;\n",
       "    }\n",
       "</style>\n",
       "<table border=\"1\" class=\"dataframe\">\n",
       "  <thead>\n",
       "    <tr style=\"text-align: right;\">\n",
       "      <th></th>\n",
       "      <th>ALL_INF</th>\n",
       "      <th>date</th>\n",
       "      <th>avgTmax</th>\n",
       "      <th>avgTmin</th>\n",
       "      <th>totPrecip</th>\n",
       "    </tr>\n",
       "  </thead>\n",
       "  <tbody>\n",
       "    <tr>\n",
       "      <th>0</th>\n",
       "      <td>21.0</td>\n",
       "      <td>2009-10-11</td>\n",
       "      <td>55.941176</td>\n",
       "      <td>38.845330</td>\n",
       "      <td>1.4</td>\n",
       "    </tr>\n",
       "    <tr>\n",
       "      <th>1</th>\n",
       "      <td>0.0</td>\n",
       "      <td>2009-10-18</td>\n",
       "      <td>68.394958</td>\n",
       "      <td>34.812951</td>\n",
       "      <td>1.0</td>\n",
       "    </tr>\n",
       "    <tr>\n",
       "      <th>2</th>\n",
       "      <td>NaN</td>\n",
       "      <td>2009-10-25</td>\n",
       "      <td>61.235294</td>\n",
       "      <td>50.263619</td>\n",
       "      <td>1.2</td>\n",
       "    </tr>\n",
       "    <tr>\n",
       "      <th>3</th>\n",
       "      <td>0.0</td>\n",
       "      <td>2009-11-01</td>\n",
       "      <td>55.941176</td>\n",
       "      <td>49.714286</td>\n",
       "      <td>1.4</td>\n",
       "    </tr>\n",
       "    <tr>\n",
       "      <th>4</th>\n",
       "      <td>0.0</td>\n",
       "      <td>2009-11-08</td>\n",
       "      <td>74.983193</td>\n",
       "      <td>44.285714</td>\n",
       "      <td>1.4</td>\n",
       "    </tr>\n",
       "  </tbody>\n",
       "</table>\n",
       "</div>"
      ],
      "text/plain": [
       "   ALL_INF       date    avgTmax    avgTmin  totPrecip\n",
       "0     21.0 2009-10-11  55.941176  38.845330        1.4\n",
       "1      0.0 2009-10-18  68.394958  34.812951        1.0\n",
       "2      NaN 2009-10-25  61.235294  50.263619        1.2\n",
       "3      0.0 2009-11-01  55.941176  49.714286        1.4\n",
       "4      0.0 2009-11-08  74.983193  44.285714        1.4"
      ]
     },
     "execution_count": 121,
     "metadata": {},
     "output_type": "execute_result"
    }
   ],
   "source": [
    "flu_weatherMal.head()"
   ]
  },
  {
   "cell_type": "code",
   "execution_count": 122,
   "metadata": {},
   "outputs": [
    {
     "data": {
      "text/plain": [
       "ALL_INF      220\n",
       "date           0\n",
       "avgTmax        0\n",
       "avgTmin        0\n",
       "totPrecip      0\n",
       "dtype: int64"
      ]
     },
     "execution_count": 122,
     "metadata": {},
     "output_type": "execute_result"
    }
   ],
   "source": [
    "flu_weatherMal.isna().sum()"
   ]
  },
  {
   "cell_type": "code",
   "execution_count": 123,
   "metadata": {},
   "outputs": [],
   "source": [
    "flu_weatherMal = flu_weatherMal[flu_weatherMal['ALL_INF'].notna()]"
   ]
  },
  {
   "cell_type": "code",
   "execution_count": 124,
   "metadata": {},
   "outputs": [],
   "source": [
    "# Rename the All_INF column to count\n",
    "flu_weatherMal = flu_weatherMal.rename(columns={'ALL_INF': 'Count'})"
   ]
  },
  {
   "cell_type": "code",
   "execution_count": 125,
   "metadata": {},
   "outputs": [
    {
     "data": {
      "text/html": [
       "<div>\n",
       "<style scoped>\n",
       "    .dataframe tbody tr th:only-of-type {\n",
       "        vertical-align: middle;\n",
       "    }\n",
       "\n",
       "    .dataframe tbody tr th {\n",
       "        vertical-align: top;\n",
       "    }\n",
       "\n",
       "    .dataframe thead th {\n",
       "        text-align: right;\n",
       "    }\n",
       "</style>\n",
       "<table border=\"1\" class=\"dataframe\">\n",
       "  <thead>\n",
       "    <tr style=\"text-align: right;\">\n",
       "      <th></th>\n",
       "      <th>Count</th>\n",
       "      <th>avgTmax</th>\n",
       "      <th>avgTmin</th>\n",
       "      <th>totPrecip</th>\n",
       "    </tr>\n",
       "  </thead>\n",
       "  <tbody>\n",
       "    <tr>\n",
       "      <th>count</th>\n",
       "      <td>355.000000</td>\n",
       "      <td>355.000000</td>\n",
       "      <td>355.000000</td>\n",
       "      <td>355.00000</td>\n",
       "    </tr>\n",
       "    <tr>\n",
       "      <th>mean</th>\n",
       "      <td>9.605634</td>\n",
       "      <td>55.717552</td>\n",
       "      <td>37.986838</td>\n",
       "      <td>1.03662</td>\n",
       "    </tr>\n",
       "    <tr>\n",
       "      <th>std</th>\n",
       "      <td>22.675729</td>\n",
       "      <td>10.816797</td>\n",
       "      <td>10.773371</td>\n",
       "      <td>0.46494</td>\n",
       "    </tr>\n",
       "    <tr>\n",
       "      <th>min</th>\n",
       "      <td>0.000000</td>\n",
       "      <td>14.714286</td>\n",
       "      <td>6.977904</td>\n",
       "      <td>0.00000</td>\n",
       "    </tr>\n",
       "    <tr>\n",
       "      <th>25%</th>\n",
       "      <td>0.000000</td>\n",
       "      <td>55.899160</td>\n",
       "      <td>30.851237</td>\n",
       "      <td>0.80000</td>\n",
       "    </tr>\n",
       "    <tr>\n",
       "      <th>50%</th>\n",
       "      <td>1.000000</td>\n",
       "      <td>55.941176</td>\n",
       "      <td>38.845330</td>\n",
       "      <td>1.40000</td>\n",
       "    </tr>\n",
       "    <tr>\n",
       "      <th>75%</th>\n",
       "      <td>6.000000</td>\n",
       "      <td>61.663866</td>\n",
       "      <td>43.862284</td>\n",
       "      <td>1.40000</td>\n",
       "    </tr>\n",
       "    <tr>\n",
       "      <th>max</th>\n",
       "      <td>162.000000</td>\n",
       "      <td>85.000000</td>\n",
       "      <td>65.120761</td>\n",
       "      <td>1.40000</td>\n",
       "    </tr>\n",
       "  </tbody>\n",
       "</table>\n",
       "</div>"
      ],
      "text/plain": [
       "            Count     avgTmax     avgTmin  totPrecip\n",
       "count  355.000000  355.000000  355.000000  355.00000\n",
       "mean     9.605634   55.717552   37.986838    1.03662\n",
       "std     22.675729   10.816797   10.773371    0.46494\n",
       "min      0.000000   14.714286    6.977904    0.00000\n",
       "25%      0.000000   55.899160   30.851237    0.80000\n",
       "50%      1.000000   55.941176   38.845330    1.40000\n",
       "75%      6.000000   61.663866   43.862284    1.40000\n",
       "max    162.000000   85.000000   65.120761    1.40000"
      ]
     },
     "execution_count": 125,
     "metadata": {},
     "output_type": "execute_result"
    }
   ],
   "source": [
    "flu_weatherMal.describe()"
   ]
  },
  {
   "cell_type": "code",
   "execution_count": 126,
   "metadata": {},
   "outputs": [
    {
     "data": {
      "text/plain": [
       "Text(0.5, 1.0, 'Weekly Precipitation vs Positive Flu Cases Malta')"
      ]
     },
     "execution_count": 126,
     "metadata": {},
     "output_type": "execute_result"
    },
    {
     "data": {
      "image/png": "[encoded data removed]",
      "text/plain": [
       "<Figure size 720x360 with 2 Axes>"
      ]
     },
     "metadata": {
      "needs_background": "light"
     },
     "output_type": "display_data"
    }
   ],
   "source": [
    "plt.rcParams['figure.figsize'] = [10, 5]\n",
    "fig, ax = plt.subplots(frameon=False)\n",
    "ax2=ax.twinx()\n",
    "\n",
    "ax.plot(flu_weatherMal['date'], flu_weatherMal['Count'], color='r')\n",
    "ax2.plot(flu_weatherMal['date'], flu_weatherMal['totPrecip'], color='b')\n",
    "\n",
    "# set title\n",
    "plt.title('Weekly Precipitation vs Positive Flu Cases Malta')"
   ]
  },
  {
   "cell_type": "code",
   "execution_count": 127,
   "metadata": {
    "scrolled": false
   },
   "outputs": [
    {
     "data": {
      "text/plain": [
       "Text(0.5, 1.0, 'Avg Maximum Temp vs Positive Flu Cases Malta')"
      ]
     },
     "execution_count": 127,
     "metadata": {},
     "output_type": "execute_result"
    },
    {
     "data": {
      "image/png": "[encoded data removed]",
      "text/plain": [
       "<Figure size 720x360 with 2 Axes>"
      ]
     },
     "metadata": {
      "needs_background": "light"
     },
     "output_type": "display_data"
    }
   ],
   "source": [
    "plt.rcParams['figure.figsize'] = [10, 5]\n",
    "fig, ax = plt.subplots(frameon=False)\n",
    "ax2=ax.twinx()\n",
    "\n",
    "ax.plot(flu_weatherMal['date'], flu_weatherMal['Count'], color='r')\n",
    "ax2.plot(flu_weatherMal['date'], flu_weatherMal['avgTmax'], color='g')\n",
    "\n",
    "# set title\n",
    "plt.title('Avg Maximum Temp vs Positive Flu Cases Malta')"
   ]
  },
  {
   "cell_type": "code",
   "execution_count": 128,
   "metadata": {},
   "outputs": [
    {
     "data": {
      "text/plain": [
       "Text(0.5, 1.0, 'Avg Minimum Temp vs Positive Flu Cases Malta')"
      ]
     },
     "execution_count": 128,
     "metadata": {},
     "output_type": "execute_result"
    },
    {
     "data": {
      "image/png": "[encoded data removed]",
      "text/plain": [
       "<Figure size 720x360 with 2 Axes>"
      ]
     },
     "metadata": {
      "needs_background": "light"
     },
     "output_type": "display_data"
    }
   ],
   "source": [
    "plt.rcParams['figure.figsize'] = [10, 5]\n",
    "fig, ax = plt.subplots(frameon=False)\n",
    "ax2=ax.twinx()\n",
    "\n",
    "ax.plot(flu_weatherMal['date'], flu_weatherMal['Count'], color='r')\n",
    "ax2.plot(flu_weatherMal['date'], flu_weatherMal['avgTmin'], color='b')\n",
    "\n",
    "# set title\n",
    "plt.title('Avg Minimum Temp vs Positive Flu Cases Malta')"
   ]
  },
  {
   "cell_type": "code",
   "execution_count": 129,
   "metadata": {},
   "outputs": [],
   "source": [
    "flu_weather= pd.concat([flu_weatherMal, flu_weatherLux, flu_weatherNY])"
   ]
  },
  {
   "cell_type": "code",
   "execution_count": 130,
   "metadata": {},
   "outputs": [
    {
     "name": "stdout",
     "output_type": "stream",
     "text": [
      "<class 'pandas.core.frame.DataFrame'>\n",
      "Int64Index: 1061 entries, 0 to 358\n",
      "Data columns (total 5 columns):\n",
      " #   Column     Non-Null Count  Dtype         \n",
      "---  ------     --------------  -----         \n",
      " 0   Count      1061 non-null   float64       \n",
      " 1   date       1061 non-null   datetime64[ns]\n",
      " 2   avgTmax    1061 non-null   float64       \n",
      " 3   avgTmin    1061 non-null   float64       \n",
      " 4   totPrecip  1061 non-null   float64       \n",
      "dtypes: datetime64[ns](1), float64(4)\n",
      "memory usage: 49.7 KB\n"
     ]
    }
   ],
   "source": [
    "flu_weather.info()"
   ]
  },
  {
   "cell_type": "code",
   "execution_count": 131,
   "metadata": {},
   "outputs": [
    {
     "data": {
      "text/html": [
       "<div>\n",
       "<style scoped>\n",
       "    .dataframe tbody tr th:only-of-type {\n",
       "        vertical-align: middle;\n",
       "    }\n",
       "\n",
       "    .dataframe tbody tr th {\n",
       "        vertical-align: top;\n",
       "    }\n",
       "\n",
       "    .dataframe thead th {\n",
       "        text-align: right;\n",
       "    }\n",
       "</style>\n",
       "<table border=\"1\" class=\"dataframe\">\n",
       "  <thead>\n",
       "    <tr style=\"text-align: right;\">\n",
       "      <th></th>\n",
       "      <th>Count</th>\n",
       "      <th>avgTmax</th>\n",
       "      <th>avgTmin</th>\n",
       "      <th>totPrecip</th>\n",
       "    </tr>\n",
       "  </thead>\n",
       "  <tbody>\n",
       "    <tr>\n",
       "      <th>count</th>\n",
       "      <td>1061.000000</td>\n",
       "      <td>1061.000000</td>\n",
       "      <td>1061.000000</td>\n",
       "      <td>1061.000000</td>\n",
       "    </tr>\n",
       "    <tr>\n",
       "      <th>mean</th>\n",
       "      <td>398.573987</td>\n",
       "      <td>54.803761</td>\n",
       "      <td>38.346012</td>\n",
       "      <td>0.748472</td>\n",
       "    </tr>\n",
       "    <tr>\n",
       "      <th>std</th>\n",
       "      <td>1286.179448</td>\n",
       "      <td>11.554578</td>\n",
       "      <td>10.692107</td>\n",
       "      <td>0.533983</td>\n",
       "    </tr>\n",
       "    <tr>\n",
       "      <th>min</th>\n",
       "      <td>0.000000</td>\n",
       "      <td>11.571429</td>\n",
       "      <td>6.977904</td>\n",
       "      <td>0.000000</td>\n",
       "    </tr>\n",
       "    <tr>\n",
       "      <th>25%</th>\n",
       "      <td>0.000000</td>\n",
       "      <td>47.571429</td>\n",
       "      <td>30.955809</td>\n",
       "      <td>0.243000</td>\n",
       "    </tr>\n",
       "    <tr>\n",
       "      <th>50%</th>\n",
       "      <td>11.000000</td>\n",
       "      <td>55.941176</td>\n",
       "      <td>38.845330</td>\n",
       "      <td>0.600000</td>\n",
       "    </tr>\n",
       "    <tr>\n",
       "      <th>75%</th>\n",
       "      <td>95.000000</td>\n",
       "      <td>62.235294</td>\n",
       "      <td>45.714286</td>\n",
       "      <td>1.400000</td>\n",
       "    </tr>\n",
       "    <tr>\n",
       "      <th>max</th>\n",
       "      <td>11992.000000</td>\n",
       "      <td>85.000000</td>\n",
       "      <td>65.120761</td>\n",
       "      <td>1.400000</td>\n",
       "    </tr>\n",
       "  </tbody>\n",
       "</table>\n",
       "</div>"
      ],
      "text/plain": [
       "              Count      avgTmax      avgTmin    totPrecip\n",
       "count   1061.000000  1061.000000  1061.000000  1061.000000\n",
       "mean     398.573987    54.803761    38.346012     0.748472\n",
       "std     1286.179448    11.554578    10.692107     0.533983\n",
       "min        0.000000    11.571429     6.977904     0.000000\n",
       "25%        0.000000    47.571429    30.955809     0.243000\n",
       "50%       11.000000    55.941176    38.845330     0.600000\n",
       "75%       95.000000    62.235294    45.714286     1.400000\n",
       "max    11992.000000    85.000000    65.120761     1.400000"
      ]
     },
     "execution_count": 131,
     "metadata": {},
     "output_type": "execute_result"
    }
   ],
   "source": [
    "flu_weather.describe()"
   ]
  },
  {
   "cell_type": "code",
   "execution_count": 132,
   "metadata": {},
   "outputs": [],
   "source": [
    "# Export our data frame to a csv to utilize in our analysis\n",
    "flu_weather.to_csv('flu_weather.csv', index=False)"
   ]
  },
  {
   "cell_type": "code",
   "execution_count": 133,
   "metadata": {},
   "outputs": [],
   "source": [
    "flu_weatherMal.to_csv('flu_weatherMal.csv', index=False)\n",
    "flu_weatherLux.to_csv('flu_weatherLux.csv', index=False)\n",
    "flu_weatherNY.to_csv('flu_weatherNY.csv', index=False)"
   ]
  },
  {
   "cell_type": "code",
   "execution_count": null,
   "metadata": {},
   "outputs": [],
   "source": []
  }
 ],
 "metadata": {
  "kernelspec": {
   "display_name": "Python 3",
   "language": "python",
   "name": "python3"
  },
  "language_info": {
   "codemirror_mode": {
    "name": "ipython",
    "version": 3
   },
   "file_extension": ".py",
   "mimetype": "text/x-python",
   "name": "python",
   "nbconvert_exporter": "python",
   "pygments_lexer": "ipython3",
   "version": "3.7.9"
  }
 },
 "nbformat": 4,
 "nbformat_minor": 4
}
